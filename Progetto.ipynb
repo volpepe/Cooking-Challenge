{
 "cells": [
  {
   "cell_type": "markdown",
   "metadata": {},
   "source": [
    "<center>\n",
    "\n",
    "# What's Cooking Challenge\n",
    "\n",
    "### <i> Progetto per l'esame di Programmazione di applicazioni di Data Intensive (2019) </i>\n",
    "\n",
    "### Cichetti Federico, Sponziello Nicolò\n",
    "</center>"
   ]
  },
  {
   "cell_type": "markdown",
   "metadata": {},
   "source": [
    "Il progetto ha lo scopo di creare un modello in grado di classificare il tipo di cucina di una ricetta in base agli ingredienti forniti."
   ]
  },
  {
   "cell_type": "markdown",
   "metadata": {},
   "source": [
    "## Librerie"
   ]
  },
  {
   "cell_type": "code",
   "execution_count": null,
   "metadata": {},
   "outputs": [],
   "source": [
    "import numpy as np\n",
    "import pandas as pd\n",
    "import matplotlib.pyplot as plt\n",
    "import nltk\n",
    "import pickle\n",
    "import random\n",
    "from collections import defaultdict\n",
    "from sklearn.model_selection import train_test_split\n",
    "from sklearn.pipeline import Pipeline\n",
    "from sklearn.preprocessing import StandardScaler\n",
    "from sklearn.linear_model import LogisticRegression, Perceptron\n",
    "from sklearn.feature_extraction.text import TfidfVectorizer\n",
    "from sklearn.model_selection import GridSearchCV\n",
    "from sklearn.metrics import confusion_matrix\n",
    "from sklearn.metrics import precision_score, recall_score, f1_score\n",
    "from sklearn.svm import SVC\n",
    "\n",
    "%matplotlib inline\n",
    "\n",
    "nltk.download(\"punkt\")\n",
    "nltk.download('averaged_perceptron_tagger')\n",
    "nltk.download(\"stopwords\")\n",
    "nltk.download(\"wordnet\")"
   ]
  },
  {
   "cell_type": "markdown",
   "metadata": {},
   "source": [
    "## Esplorazione dei dati"
   ]
  },
  {
   "cell_type": "markdown",
   "metadata": {},
   "source": [
    "Partiamo caricando i dati in un dataframe Pandas e visualizzandone una parte per capire come sono strutturati"
   ]
  },
  {
   "cell_type": "code",
   "execution_count": null,
   "metadata": {},
   "outputs": [],
   "source": [
    "df = pd.read_json(\"train.json\")\n",
    "pd.options.display.max_colwidth = 500"
   ]
  },
  {
   "cell_type": "code",
   "execution_count": null,
   "metadata": {
    "scrolled": true
   },
   "outputs": [],
   "source": [
    "df.head()"
   ]
  },
  {
   "cell_type": "code",
   "execution_count": null,
   "metadata": {
    "scrolled": false
   },
   "outputs": [],
   "source": [
    "df.tail()"
   ]
  },
  {
   "cell_type": "markdown",
   "metadata": {},
   "source": [
    "Il dataframe ha tre colonne:\n",
    "- \"cuisine\" indica il tipo di cucina a cui appartiene il piatto. Questa sarà l'incognita da scoprire.\n",
    "- \"id\" è una colonna che contiene un numero identificativo di ogni piatto. Questo dato non è utile al problema, quindi decidiamo di eliminare la colonna e usare come identificativo l'indice aggiunto in automatico da Pandas.\n",
    "- \"ingredients\" contiene la lista di ingredienti del piatto."
   ]
  },
  {
   "cell_type": "code",
   "execution_count": null,
   "metadata": {},
   "outputs": [],
   "source": [
    "if \"id\" in df:\n",
    "    df.drop(\"id\", inplace=True, axis=1)\n",
    "df.head()"
   ]
  },
  {
   "cell_type": "markdown",
   "metadata": {},
   "source": [
    "Prima di procedere si esplorano e visualizzano alcuni dati, in particolare:\n",
    "* Quante ricette sono presenti\n",
    "* La totalità degli ingredienti"
   ]
  },
  {
   "cell_type": "code",
   "execution_count": null,
   "metadata": {},
   "outputs": [],
   "source": [
    "len(df)"
   ]
  },
  {
   "cell_type": "markdown",
   "metadata": {},
   "source": [
    "Le ricette da classificare nel dataset sono 39774 in totale."
   ]
  },
  {
   "cell_type": "code",
   "execution_count": null,
   "metadata": {},
   "outputs": [],
   "source": [
    "len(df['cuisine'].unique())"
   ]
  },
  {
   "cell_type": "markdown",
   "metadata": {},
   "source": [
    "In totale ci sono 20 tipi di cucine differenti. Si tratta quindi di un problema di classificazione multiclasse.\n",
    "Controlliamo quanti piatti ci sono per ogni cucina."
   ]
  },
  {
   "cell_type": "code",
   "execution_count": null,
   "metadata": {
    "scrolled": true
   },
   "outputs": [],
   "source": [
    "df['cuisine'].value_counts()"
   ]
  },
  {
   "cell_type": "code",
   "execution_count": null,
   "metadata": {},
   "outputs": [],
   "source": [
    "df['cuisine'].value_counts().plot(\"bar\")"
   ]
  },
  {
   "cell_type": "code",
   "execution_count": null,
   "metadata": {},
   "outputs": [],
   "source": [
    "plt.figure(figsize=(12, 12))\n",
    "df['cuisine'].value_counts().plot.pie()"
   ]
  },
  {
   "cell_type": "markdown",
   "metadata": {},
   "source": [
    "Dal grafico possiamo notare che le classi sono sbilanciate, cioè sono presenti molte ricette che vengono identificate come cucina italiana e messicana, mentre ci sono poche ricette russe e brasiliane."
   ]
  },
  {
   "cell_type": "markdown",
   "metadata": {},
   "source": [
    "Per analizzare gli ingredienti, per adesso usiamo un approccio iterativo. Si crea un set di ingredienti in modo da eliminare eventuali duplicati."
   ]
  },
  {
   "cell_type": "code",
   "execution_count": null,
   "metadata": {},
   "outputs": [],
   "source": [
    "ingredients = set()\n",
    "for recipe in df['ingredients']:\n",
    "    for i in recipe:\n",
    "        ingredients.add(i)"
   ]
  },
  {
   "cell_type": "code",
   "execution_count": null,
   "metadata": {},
   "outputs": [],
   "source": [
    "len(ingredients)"
   ]
  },
  {
   "cell_type": "markdown",
   "metadata": {},
   "source": [
    "In totale notiamo che in tutto ci sono 6714 ingredienti diversi nel dataset."
   ]
  },
  {
   "cell_type": "markdown",
   "metadata": {},
   "source": [
    "Visualizziamo quelli più usati. Per fare questo gli ingredienti vanno inseriti in una lista in modo da mantenere i duplicati che poi dovranno essere contati."
   ]
  },
  {
   "cell_type": "code",
   "execution_count": null,
   "metadata": {},
   "outputs": [],
   "source": [
    "ingredients_list = list()\n",
    "for i in df['ingredients']:\n",
    "    for word in i:\n",
    "        ingredients_list.append(word)"
   ]
  },
  {
   "cell_type": "code",
   "execution_count": null,
   "metadata": {},
   "outputs": [],
   "source": [
    "common_ingredients = pd.Series(ingredients_list)\n",
    "common_ingredients.value_counts().nlargest(15)"
   ]
  },
  {
   "cell_type": "markdown",
   "metadata": {},
   "source": [
    "Questi sono gli ingredienti più comuni"
   ]
  },
  {
   "cell_type": "code",
   "execution_count": null,
   "metadata": {},
   "outputs": [],
   "source": [
    "common_ingredients.value_counts().nlargest(20).plot(kind=\"bar\")"
   ]
  },
  {
   "cell_type": "markdown",
   "metadata": {},
   "source": [
    "Visualizziamo ora gli ingredienti più comuni per ogni cucina. Si crea un dizionario che contiene per ogni cucina un dizionario ingrediente -> numero di occorrenze e lo si ordina per tale conteggio. Possiamo poi costruire un DataFrame per visualizzare efficacemente quali sono gli ingredienti più usati."
   ]
  },
  {
   "cell_type": "code",
   "execution_count": null,
   "metadata": {},
   "outputs": [],
   "source": [
    "tmp = df.groupby('cuisine')['ingredients'].apply(list)\n",
    "\n",
    "def most_common_ingr_by_cuisine(cuisine):\n",
    "    lists = tmp[cuisine]\n",
    "    res = defaultdict(int)\n",
    "    for recipe in lists:\n",
    "        for ingr in recipe:\n",
    "            res[ingr] += 1\n",
    "    return sorted(res.items(), key=lambda x: x[1], reverse=True)"
   ]
  },
  {
   "cell_type": "markdown",
   "metadata": {},
   "source": [
    "Chiamando la funzione qui sopra passando, ad esempio, la classe \"italian\" possiamo vedere che sale, olio di oliva, aglio e parmigiano sono alcuni degli ingredienti più comuni della cucina italiana."
   ]
  },
  {
   "cell_type": "code",
   "execution_count": null,
   "metadata": {
    "scrolled": true
   },
   "outputs": [],
   "source": [
    "commons_ital = pd.DataFrame(most_common_ingr_by_cuisine('italian'), columns=[\"ingredient\", \"count\"]).head(10)\n",
    "commons_ital"
   ]
  },
  {
   "cell_type": "markdown",
   "metadata": {},
   "source": [
    "In realtà il sale è l'ingrediente più comune per molte cucine."
   ]
  },
  {
   "cell_type": "code",
   "execution_count": null,
   "metadata": {
    "scrolled": false
   },
   "outputs": [],
   "source": [
    "pd.DataFrame(most_common_ingr_by_cuisine('french'), columns=[\"ingredient\", \"count\"]).head(3)"
   ]
  },
  {
   "cell_type": "code",
   "execution_count": null,
   "metadata": {
    "scrolled": true
   },
   "outputs": [],
   "source": [
    "pd.DataFrame(most_common_ingr_by_cuisine('brazilian'), columns=[\"ingredient\", \"count\"]).head(3)"
   ]
  },
  {
   "cell_type": "markdown",
   "metadata": {},
   "source": [
    "Definiamo ora una funzione che restituisca il numero di ingredienti medio per ogni ricetta di una determinata cucina."
   ]
  },
  {
   "cell_type": "code",
   "execution_count": null,
   "metadata": {},
   "outputs": [],
   "source": [
    "def avg_ingr_per_recipe(cuisine):\n",
    "    recipes = tmp[cuisine]\n",
    "    count = 0;\n",
    "    for recipe in recipes:\n",
    "        for ingr in recipe:\n",
    "            count += 1;\n",
    "    return count/len(recipes)\n",
    "\n",
    "avg_ingr_per_recipe('brazilian')"
   ]
  },
  {
   "cell_type": "code",
   "execution_count": null,
   "metadata": {},
   "outputs": [],
   "source": [
    "average = {cuisine: avg_ingr_per_recipe(cuisine) for cuisine in df['cuisine'].unique()}\n",
    "average"
   ]
  },
  {
   "cell_type": "code",
   "execution_count": null,
   "metadata": {},
   "outputs": [],
   "source": [
    "plt.figure(figsize=(21, 3))\n",
    "plt.bar(average.keys(), average.values(), align=\"center\", width=0.5)\n",
    "plt.title(\"Ingredienti medi per ricetta per ogni cucina\")\n",
    "plt.show()"
   ]
  },
  {
   "cell_type": "markdown",
   "metadata": {},
   "source": [
    "# Preprocessing dei dati"
   ]
  },
  {
   "cell_type": "markdown",
   "metadata": {},
   "source": [
    "In questa fase, partendo dai risultati dell'analisi, effettuiamo una trasformazione dei dati in modo che siano pronti per essere elaborati dagli algoritmi di learning."
   ]
  },
  {
   "cell_type": "markdown",
   "metadata": {},
   "source": [
    "Come abbiamo potuto notare, il dataframe si compone di righe formate da:\n",
    "\n",
    "- **[cuisine]**: categoria di cucina\n",
    "- **[ingredients]**: lista di ingredienti in formato testuale"
   ]
  },
  {
   "cell_type": "markdown",
   "metadata": {},
   "source": [
    "Una prima domanda che ci si può porre è come gestire gli ingredienti di una ricetta dato che spesso, come emerso dall'analisi dei dati, sono composti da più parole.\n",
    "- Una soluzione possibile è quella di considerarli cosi come sono presenti, cioè \"black olives\" rimarrebbe \"black olives\"\n",
    "- Oppure si potrebbero unire tutti gli ingredienti di una ricetta in un'unica stringa e applicare tecniche di text processing per cercare di estrarre più informazioni possibili\n",
    "    - Stemming, Lemmatization, Bag of Word, Vector Space Model"
   ]
  },
  {
   "cell_type": "markdown",
   "metadata": {},
   "source": [
    "## Binarizzazione"
   ]
  },
  {
   "cell_type": "markdown",
   "metadata": {},
   "source": [
    "Un primo approccio naive sarebbe quello di estrarre dal dataset un set contenente tutti gli ingredienti presenti e binarizzare ogni ricetta.\n",
    "- Ad ogni riga, che rappresenta una ricetta, è associato un vettore di elementi in [0, 1] in cui la cella corrispondente all'ingrediente contiene 1 se è usato nella ricetta, 0 altrimenti.\n",
    "- Avremmo ottenuto un dataset con circa 6700 features e 40'000 istanze, con un'alta occupazione di memoria e lunghi tempi di calcolo."
   ]
  },
  {
   "cell_type": "markdown",
   "metadata": {},
   "source": [
    "Oltre ad essere evidentemente un metodo poco scalabile, lento, e che occupa livelli veramente alti di memoria, lavora considerando troppi ingredienti e probabilmente è troppo complesso per essere efficace. In seguito ad alcuni test non riportati, si è effettivamente rivelato abbastanza inefficiente e inaccurato, motivo per cui sono stati subito scelti approcci differenti, previlegiando soluzioni con un numero di feature ridotto."
   ]
  },
  {
   "cell_type": "markdown",
   "metadata": {},
   "source": [
    "## Vector Space Model"
   ]
  },
  {
   "cell_type": "markdown",
   "metadata": {},
   "source": [
    "Questo modello consente di rappresentare le ricette come vettori all'interno di un iperspazio in cui a ogni singola parola del dizionario comune (in questo caso, ogni singolo ingrediente) viene associato un peso che indica quanto esso contraddistingua la ricetta stessa.\n",
    "Il modello tf-idf si adatta particolarmente bene allo scopo, in quanto:\n",
    "- Associa ad ogni parola un peso che dipende sia dalla frequenza di uso locale Tf (cioè nella stessa ricetta) sia negli altri documenti idf (ricette)\n",
    "- Tutti gli ingredienti vengono mappati\n",
    "- I valori per ogni parola sono normalizzati in [0, 1]\n"
   ]
  },
  {
   "cell_type": "markdown",
   "metadata": {},
   "source": [
    "Di default, un TfidfVectorizer() effettua del preprocessing prima di creare la matrice che contiene i pesi. Questo preprocessing può comprendere l'eliminazione di eventuali stopword (cioè parole inglesi di poca importanza nella comprensione dei contenuti che vengono scartate), segni di punteggiatura e tanto altro. Una possibile variante è quella di considerare le ricette sia divise per singole parole che per n-uple."
   ]
  },
  {
   "cell_type": "markdown",
   "metadata": {},
   "source": [
    "Per prima cosa, manipoliamo la colonna 'ingredients' del dataframe\n",
    "- trasformiamo la lista di ingredienti in un'unica stringa in modo che possa essere letta dal tokenizer"
   ]
  },
  {
   "cell_type": "code",
   "execution_count": null,
   "metadata": {},
   "outputs": [],
   "source": [
    "for idx in df.index:\n",
    "    txt = \"\"\n",
    "    for ing in df.loc[idx, \"ingredients\"]:\n",
    "        txt += (ing + \" \")\n",
    "    df.loc[idx, \"ingredients\"] = txt"
   ]
  },
  {
   "cell_type": "code",
   "execution_count": null,
   "metadata": {},
   "outputs": [],
   "source": [
    "df.head()"
   ]
  },
  {
   "cell_type": "markdown",
   "metadata": {},
   "source": [
    "Creiamo i set per il training dei modelli e il calcolo dello score sul validation"
   ]
  },
  {
   "cell_type": "code",
   "execution_count": null,
   "metadata": {},
   "outputs": [],
   "source": [
    "X_t, X_v, y_t, y_v = train_test_split(df['ingredients'], df['cuisine'], random_state=42, test_size=1/3)"
   ]
  },
  {
   "cell_type": "code",
   "execution_count": null,
   "metadata": {},
   "outputs": [],
   "source": [
    "import warnings\n",
    "warnings.simplefilter(action='ignore', category=FutureWarning)"
   ]
  },
  {
   "cell_type": "markdown",
   "metadata": {},
   "source": [
    "## Perceptron"
   ]
  },
  {
   "cell_type": "markdown",
   "metadata": {},
   "source": [
    "Iniziamo lo studio dei modelli di classificazione partendo dal più semplice: il Perceptron. Con class_weight=\"balanced\" si fa un tentativo di bilanciare le classi dato che come si è visto ci sono molte più ricette italiane e messicane che altre."
   ]
  },
  {
   "cell_type": "code",
   "execution_count": null,
   "metadata": {},
   "outputs": [],
   "source": [
    "perceptron = Pipeline([\n",
    "    (\"tfidf\", TfidfVectorizer()),\n",
    "    (\"perc\", Perceptron())\n",
    "])"
   ]
  },
  {
   "cell_type": "markdown",
   "metadata": {},
   "source": [
    "Per ottimizzare i parametri, usiamo la Grid Search\n",
    " - Testiamo anche quale ngram ottimizza lo score"
   ]
  },
  {
   "cell_type": "code",
   "execution_count": null,
   "metadata": {},
   "outputs": [],
   "source": [
    "grid1 = [{\n",
    "    'tfidf__ngram_range':[(1, 1), (1, 2), (1, 3)],  #considerazioni di unigrammi, bigrammi, trigrammi\n",
    "    'perc__penalty': ['l1', 'l2'], #regolarizzazioni da effettuare\n",
    "    'perc__alpha': 5 * np.logspace(-5, -3, 3), #peso della regolarizzazione\n",
    "    'perc__class_weight': [None, \"balanced\"]\n",
    "},{\n",
    "    'tfidf__ngram_range':[(1, 1), (1, 2), (1, 3)],  #considerazioni di unigrammi, bigrammi, trigrammi\n",
    "    'perc__penalty': [None], #regolarizzazioni da effettuare\n",
    "    'perc__class_weight': [None, \"balanced\"]\n",
    "}\n",
    "]\n",
    "gs_perc = GridSearchCV(perceptron, param_grid=grid1)"
   ]
  },
  {
   "cell_type": "code",
   "execution_count": null,
   "metadata": {},
   "outputs": [],
   "source": [
    "gs_perc.fit(X_t, y_t)\n",
    "gs_perc.score(X_v, y_v)"
   ]
  },
  {
   "cell_type": "code",
   "execution_count": null,
   "metadata": {},
   "outputs": [],
   "source": [
    "pd.DataFrame(gs_perc.cv_results_).sort_values(\"rank_test_score\").head(5)"
   ]
  },
  {
   "cell_type": "code",
   "execution_count": null,
   "metadata": {},
   "outputs": [],
   "source": [
    "pd.Series(gs_perc.best_params_)"
   ]
  },
  {
   "cell_type": "markdown",
   "metadata": {},
   "source": [
    "Possiamo notare dall'analisi dei risultati prodotti dal Perceptron che le performance migliori si ottengono:\n",
    " - Applicando il bilanciamento delle classi\n",
    " - Senza uso di penalizzazione\n",
    " - Considerando bigrammi"
   ]
  },
  {
   "cell_type": "markdown",
   "metadata": {},
   "source": [
    "Si salva il modello su disco:"
   ]
  },
  {
   "cell_type": "code",
   "execution_count": null,
   "metadata": {},
   "outputs": [],
   "source": [
    "with open(\"what's_cooking_website/models/model_perc.bin\", \"wb\") as f:\n",
    "    pickle.dump(gs_perc.best_estimator_, f)"
   ]
  },
  {
   "cell_type": "markdown",
   "metadata": {},
   "source": [
    "### Note riguardo al perceptron\n",
    "\n",
    "Questo modello è già abbastanza buono, ma probabilmente si può fare di meglio. A quanto pare non serve inserire \"balanced\" come class weight - proveremo un metodo di bilanciamento più complesso più avanti. Il peso della regolarizzazione deve essere piuttosto piccolo e si preferisce una regolarizzazione di tipo L2.\n",
    "Proviamo l'accuratezza di un modello casuale per vedere quanto si discosta da quella rilevata con il nostro modello."
   ]
  },
  {
   "cell_type": "code",
   "execution_count": null,
   "metadata": {
    "scrolled": true
   },
   "outputs": [],
   "source": [
    "cuisines = pd.Series(df[\"cuisine\"].value_counts().keys(), index=range(0, 20, 1))\n",
    "cuisines.head(5)"
   ]
  },
  {
   "cell_type": "code",
   "execution_count": null,
   "metadata": {},
   "outputs": [],
   "source": [
    "random_predictions = [cuisines.iloc[random.randint(0, 19)] for i in range(0, len(X_v))]\n",
    "print(str(len(random_predictions) == len(X_v)) + \", \" + str(random_predictions[:5]))"
   ]
  },
  {
   "cell_type": "code",
   "execution_count": null,
   "metadata": {},
   "outputs": [],
   "source": [
    "ran_ser = pd.Series(random_predictions)\n",
    "len(ran_ser[ran_ser == pd.Series(y_v.values)]) / len(X_v)"
   ]
  },
  {
   "cell_type": "markdown",
   "metadata": {},
   "source": [
    "L'accuratezza del circa 5% era attesa dato che si tratta di selezionare uno tra venti valori differenti."
   ]
  },
  {
   "cell_type": "markdown",
   "metadata": {},
   "source": [
    "## Miglioramento dei risultati (Regressione Logistica)"
   ]
  },
  {
   "cell_type": "markdown",
   "metadata": {},
   "source": [
    "Proviamo a migliorare il risultato:\n",
    "- Preprocessando in maniera differente i dati\n",
    "- Utilizzando modelli più complessi e accurati"
   ]
  },
  {
   "cell_type": "markdown",
   "metadata": {},
   "source": [
    "Definiamo una nostra funzione di preprocessing per avere più controllo su questa fase. Il processamento di un ingrediente viene fatto attraverso i seguenti passaggi:\n",
    "- tokenizzazione per dividere in singole parole gli ingredienti multiparola\n",
    "- casefolding\n",
    "- rimozione delle stopwords e delle parole non-alfabetiche per sfoltire l'insieme degli ingredienti\n",
    "- rimozione delle unità di misura\n",
    "- stemming/lemmatization dei token ottenuti con i passaggi precedenti in modo da estrarre solamente la parte rilveante degli stessi (la loro radice morfologica)"
   ]
  },
  {
   "cell_type": "code",
   "execution_count": null,
   "metadata": {},
   "outputs": [],
   "source": [
    "units = ['oz', 'gram', 'g']"
   ]
  },
  {
   "cell_type": "code",
   "execution_count": null,
   "metadata": {},
   "outputs": [],
   "source": [
    "def preprocess_stem(ingredients):\n",
    "    #tokenization\n",
    "    tokens = nltk.tokenize.word_tokenize(ingredients)\n",
    "    #token filtering\n",
    "    tokens_left = {token.lower() for token in tokens} #casefolding\n",
    "    for tok in set(tokens): #do not check duplicates\n",
    "        if tok in nltk.corpus.stopwords.words(\"english\") or not tok.isalpha() or tok in units: #non-alphabetic words and stopwords removal\n",
    "            tokens_left.remove(tok)\n",
    "    #stemming\n",
    "    ps = nltk.stem.PorterStemmer()\n",
    "    stemmed_tokens = {ps.stem(tok) for tok in tokens_left}\n",
    "    return stemmed_tokens"
   ]
  },
  {
   "cell_type": "code",
   "execution_count": null,
   "metadata": {},
   "outputs": [],
   "source": [
    "def preprocess_lem(ingredients):\n",
    "    tokens = {token.lower() for token in nltk.tokenize.word_tokenize(ingredients)}\n",
    "    for tok in tokens:\n",
    "        if tok in nltk.corpus.stopwords.words(\"english\") or not tok.isalpha() or tok in units:\n",
    "            tokens.remove(tok)\n",
    "#Lemmatization\n",
    "lemmatizer = nltk.stem.WordNetLemmatizer()\n",
    "return {lemmatizer.lemmatize(tok) for tok in tokens}"
   ]
  },
  {
   "cell_type": "markdown",
   "metadata": {},
   "source": [
    "Proviamo ora a testare questa funzione insieme a quella di default in una Grid Search in cui si utilizza come modello la Regressione Logistica. Mettiamo anche alcuni iperparametri della regressione nella Grid Search per ottenere il miglior modello possibile."
   ]
  },
  {
   "cell_type": "code",
   "execution_count": null,
   "metadata": {},
   "outputs": [],
   "source": [
    "grid2 = {\n",
    "    'model__C' : [1, 5, 10],\n",
    "    'tokenizer__tokenizer' : [None, preprocess_stem, preprocess_lem]\n",
    "}\n",
    "logreg = Pipeline([\n",
    "    (\"tokenizer\", TfidfVectorizer()),\n",
    "    (\"model\",  LogisticRegression()) #se va male: fit_intercept=False\n",
    "])\n",
    "gs_logreg = GridSearchCV(logreg, param_grid=grid2)\n",
    "gs_logreg.fit(X_t, y_t)\n",
    "gs_logreg.score(X_v, y_v)"
   ]
  },
  {
   "cell_type": "code",
   "execution_count": null,
   "metadata": {},
   "outputs": [],
   "source": [
    "pd.DataFrame(gs_logreg.cv_results_).sort_values(\"rank_test_score\").head(5)"
   ]
  },
  {
   "cell_type": "markdown",
   "metadata": {},
   "source": [
    "[Descrizione dei risultati]\n",
    "La funzione di preprocessing potrebbe non essere necessaria (provare con lemmatization?)\n",
    "Migliori parametri"
   ]
  },
  {
   "cell_type": "markdown",
   "metadata": {},
   "source": [
    "Nonostante il preprocessing potrebbe non essere ottimale, il modello è più accurato quindi possiamo cercare di capire che cosa ha imparato controllando i parametri.\n",
    "Possiamo creare un DataFrame che associ a ogni cucina per tutte le parole del dizionario individuate dal Vectorizer il corrispondente peso."
   ]
  },
  {
   "cell_type": "code",
   "execution_count": null,
   "metadata": {},
   "outputs": [],
   "source": [
    "model_logreg = gs_logreg.best_estimator_\n",
    "coeffs = pd.DataFrame(model_logreg.named_steps[\"model\"].coef_, index=model_logreg.classes_, columns=model_logreg.named_steps[\"tokenizer\"].get_feature_names())\n",
    "coeffs"
   ]
  },
  {
   "cell_type": "markdown",
   "metadata": {},
   "source": [
    "In questo modo selezionando una cucina e un ingrediente si può vedere il peso assegnato all'interno di una eventuale query."
   ]
  },
  {
   "cell_type": "code",
   "execution_count": null,
   "metadata": {},
   "outputs": [],
   "source": [
    "coeffs.loc[\"italian\", \"mozzarella\"]"
   ]
  },
  {
   "cell_type": "code",
   "execution_count": null,
   "metadata": {},
   "outputs": [],
   "source": [
    "coeffs.loc[\"mexican\", \"corn\"]"
   ]
  },
  {
   "cell_type": "markdown",
   "metadata": {},
   "source": [
    "Possiamo inoltre studiare quali siano gli ingredienti più caratteristici di ogni cucina secondo questi pesi."
   ]
  },
  {
   "cell_type": "code",
   "execution_count": null,
   "metadata": {},
   "outputs": [],
   "source": [
    "best_ing_data = {\n",
    "    \"cuisine\" : df[\"cuisine\"].unique(),\n",
    "    \"best_ingredient\" : [coeffs.loc[cuisine, :].idxmax() for cuisine in df[\"cuisine\"].unique()],\n",
    "    \"score\" : [coeffs.loc[cuisine, :].max() for cuisine in df[\"cuisine\"].unique()]\n",
    "}\n",
    "best_ingredients = pd.DataFrame(best_ing_data).set_index([\"cuisine\"])\n",
    "best_ingredients"
   ]
  },
  {
   "cell_type": "markdown",
   "metadata": {},
   "source": [
    "Si nota già da questo DataFrame che gli ingredienti più caratteristici di alcune cucine sono semplicemente gli aggettivi che ne indicano le provenienze (russian, irish), nonostante non siano veri e propri ingredienti. Per le altre cucine, invece, gli ingredienti principali sono abbastanza realistici."
   ]
  },
  {
   "cell_type": "markdown",
   "metadata": {},
   "source": [
    "Proviamo ancora a migliorare i risultati utilizzando un modello ancora più complesso: SVM."
   ]
  },
  {
   "cell_type": "markdown",
   "metadata": {},
   "source": [
    "Ma prima, salviamo anche questo modello su disco:"
   ]
  },
  {
   "cell_type": "code",
   "execution_count": null,
   "metadata": {},
   "outputs": [],
   "source": [
    "with open(\"what's_cooking_website/models/model_logreg.bin\", \"wb\") as f:\n",
    "    pickle.dump(gs_logreg.best_estimator, f)"
   ]
  },
  {
   "cell_type": "markdown",
   "metadata": {},
   "source": [
    "## Support Vector Machines"
   ]
  },
  {
   "cell_type": "markdown",
   "metadata": {},
   "source": [
    "Le Support Vector Machines sono uno strumento molto potente per individuare iperpiani di separazione ottimi, ovvero quelli che generano minore overfitting. Invece di considerare tutte le istanze, si considerano solo quelle vicine al decision boundary, i cosiddetti Support Vector e si cerca di massimizzare la distanza tra questi punti e l'iperpiano."
   ]
  },
  {
   "cell_type": "markdown",
   "metadata": {},
   "source": [
    "Gli iperparametri per SVM sono i seguenti:\n",
    "- il tipo di funzione kernel da usare\n",
    "- il grado della funzione kernel\n",
    "- C, ovvero un parametro che controlla l'overfitting effettuando uno spostamento dei dati misclassified\n",
    "- gamma, ovvero un parametro che controlla quanto il decision boundary sia flessibile (in rbf corrisponde all'ampiezza della gaussiana)\n",
    "\n",
    "Abilitiamo anche probability=True per abilitare l'utilizzo di predict_proba nel modello finale."
   ]
  },
  {
   "cell_type": "code",
   "execution_count": null,
   "metadata": {},
   "outputs": [],
   "source": [
    "grid3 = {\n",
    "    'model__gamma' : [0.1, 1, 5],\n",
    "    'model__C' : [0.1, 1, 5],\n",
    "    'model__kernel' : ['rbf', 'poly']\n",
    "}\n",
    "SVC = Pipeline([\n",
    "    (\"tokenizer\", TfidfVectorizer()),\n",
    "    (\"model\",  SVC(probability=True))\n",
    "])\n",
    "gs_SVC = GridSearchCV(SVC, grid3)"
   ]
  },
  {
   "cell_type": "code",
   "execution_count": null,
   "metadata": {},
   "outputs": [],
   "source": [
    "gs_SVC.fit(X_t, y_t)\n",
    "gs_SVC.score(X_v, y_v)"
   ]
  },
  {
   "cell_type": "code",
   "execution_count": null,
   "metadata": {},
   "outputs": [],
   "source": [
    "pd.DataFrame(gs_SVC.cv_results_).sort_values(\"rank_test_score\").head(5)"
   ]
  },
  {
   "cell_type": "markdown",
   "metadata": {},
   "source": [
    "[conclusioni su questo metodo]"
   ]
  },
  {
   "cell_type": "markdown",
   "metadata": {},
   "source": [
    "Ancora una volta, salviamo il modello su disco:"
   ]
  },
  {
   "cell_type": "code",
   "execution_count": null,
   "metadata": {},
   "outputs": [],
   "source": [
    "with open(\"what's_cooking_website/models/model_SVM.bin\", \"wb\") as f:\n",
    "    pickle.dump(gs_SVC.best_estimator, f)"
   ]
  },
  {
   "cell_type": "markdown",
   "metadata": {},
   "source": [
    "## Affidabilità dei modelli"
   ]
  },
  {
   "cell_type": "markdown",
   "metadata": {},
   "source": [
    "Si vuole calcolare quanto i modelli trovati finora siano affidabili. Per farlo utilizzeremo diverse metriche:\n",
    "- Si calcola la matrice di confusione\n",
    "- Si calcolano precision, recall e f1-score dei modelli\n",
    "- Calcolo degli intervalli di confidenza con confidenza fissata al 95%"
   ]
  },
  {
   "cell_type": "code",
   "execution_count": null,
   "metadata": {},
   "outputs": [],
   "source": [
    "def confusion_matrix_calculation(model):\n",
    "    return confusion_matrix(y_v, model.predict(X_v))\n",
    "\n",
    "def calculate_precision_recall_f1(model):\n",
    "    y_v_predictions = model.predict(X_v)\n",
    "    p = precision_score(y_v, y_v_predictions, pos_label=1, average=\"macro\")\n",
    "    r = recall_score(y_v, y_v_predictions, average=\"macro\")\n",
    "    f1 = f1_score(y_v, y_v_predictions, average=\"macro\")\n",
    "    return {\"precision\" : p, \"recall\": r, \"f1-score\": f1}"
   ]
  },
  {
   "cell_type": "code",
   "execution_count": null,
   "metadata": {},
   "outputs": [],
   "source": [
    "#matrice di confusione del modello perceptron\n",
    "conf_perc = pd.DataFrame(confusion_matrix_calculation(gs_perc.best_estimator_), index=average.keys(), columns=average.keys())\n",
    "conf_perc"
   ]
  },
  {
   "cell_type": "code",
   "execution_count": null,
   "metadata": {},
   "outputs": [],
   "source": [
    "#matrice di confusione del modello di regressione logistica\n",
    "conf_logreg = pd.DataFrame(confusion_matrix_calculation(gs_logreg.best_estimator_), index=best_ingredients.index, columns=best_ingredients.index)\n",
    "conf_logreg"
   ]
  },
  {
   "cell_type": "code",
   "execution_count": null,
   "metadata": {},
   "outputs": [],
   "source": [
    "#matrice di confusione del modello SVM\n",
    "conf_SVC = pd.DataFrame(confusion_matrix_calculation(gs_SVC.best_estimator_), index=best_ingredients.index, columns=best_ingredients.index)\n",
    "conf_SVC"
   ]
  },
  {
   "cell_type": "code",
   "execution_count": null,
   "metadata": {},
   "outputs": [],
   "source": [
    "#calcolo delle statistiche per ogni modello trovato\n",
    "pd.DataFrame([calculate_precision_recall_f1(gs_perc.best_estimator_),\n",
    "              calculate_precision_recall_f1(gs_logreg.best_estimator_),\n",
    "              calculate_precision_recall_f1(gs_SVC.best_estimator_)],\n",
    "                 index=[\"perceptron\", \"logreg\", \"SVM\"])"
   ]
  },
  {
   "cell_type": "markdown",
   "metadata": {},
   "source": [
    "[Inserire analisi dei risultati ottenuti]"
   ]
  },
  {
   "cell_type": "markdown",
   "metadata": {},
   "source": [
    "Calcoliamo anche gli intervalli di confidenza dei modelli."
   ]
  },
  {
   "cell_type": "code",
   "execution_count": null,
   "metadata": {},
   "outputs": [],
   "source": [
    "def confidence(acc, N, Z):\n",
    "    den = (2*(N+Z**2))\n",
    "    var = (Z*np.sqrt(Z**2+4*N*acc-4*N*acc**2)) / den\n",
    "    a = (2*N*acc+Z**2) / den\n",
    "    inf = a - var\n",
    "    sup = a + var\n",
    "    return (inf, sup)\n",
    "\n",
    "def calculate_accuracy(conf_matrix):\n",
    "    return np.diag(conf_matrix).sum() / conf_matrix.sum().sum()"
   ]
  },
  {
   "cell_type": "code",
   "execution_count": null,
   "metadata": {},
   "outputs": [],
   "source": [
    "#con confidenza del 0.95 si ha Z=1.96\n",
    "confidence(calculate_accuracy(conf_perc), len(X_v), 1.96)"
   ]
  },
  {
   "cell_type": "markdown",
   "metadata": {},
   "source": [
    "## Bilanciamento delle classi"
   ]
  },
  {
   "cell_type": "markdown",
   "metadata": {},
   "source": [
    "Proviamo ora a trasformare i dati in modo che le classi siano bilanciate per vedere se i risultati che si ottengono sono migliori o peggiori. Per farlo usiamo SMOTE che fa parte del modulo imblearn che deve essere scaricato con pip con il comando \n",
    "```python\n",
    "pip3 install imblearn\n",
    "```"
   ]
  },
  {
   "cell_type": "code",
   "execution_count": null,
   "metadata": {},
   "outputs": [],
   "source": [
    "from imblearn.over_sampling import SMOTE\n",
    "balancer = SMOTE(random_state=42)\n",
    "t = TfidfVectorizer()\n",
    "balanced_matrix = t.fit_transform(df[\"ingredients\"])\n",
    "y_cpy = df[\"cuisine\"]"
   ]
  },
  {
   "cell_type": "code",
   "execution_count": null,
   "metadata": {},
   "outputs": [],
   "source": [
    "X, y = balancer.fit_resample(balanced_matrix, y_cpy)"
   ]
  },
  {
   "cell_type": "code",
   "execution_count": null,
   "metadata": {},
   "outputs": [],
   "source": [
    "pd.Series(y).value_counts()"
   ]
  },
  {
   "cell_type": "markdown",
   "metadata": {},
   "source": [
    "Le classi sono state bilanciate."
   ]
  },
  {
   "cell_type": "code",
   "execution_count": null,
   "metadata": {},
   "outputs": [],
   "source": [
    "model_balanced = LogisticRegression(C=5)\n",
    "X_t_b, X_v_b, y_t_b, y_v_b = train_test_split(balanced_matrix, y_cpy, random_state=42, test_size=1/3)"
   ]
  },
  {
   "cell_type": "code",
   "execution_count": null,
   "metadata": {},
   "outputs": [],
   "source": [
    "model_balanced.fit(X_t_b, y_t_b)\n",
    "model_balanced.score(X_v_b, y_v_b)"
   ]
  },
  {
   "cell_type": "markdown",
   "metadata": {},
   "source": [
    "[conclusioni da fare sul modello bilanciato]"
   ]
  },
  {
   "cell_type": "markdown",
   "metadata": {},
   "source": [
    "## Conclusioni [da fare]"
   ]
  }
 ],
 "metadata": {
  "kernelspec": {
   "display_name": "Python 3",
   "language": "python",
   "name": "python3"
  },
  "language_info": {
   "codemirror_mode": {
    "name": "ipython",
    "version": 3
   },
   "file_extension": ".py",
   "mimetype": "text/x-python",
   "name": "python",
   "nbconvert_exporter": "python",
   "pygments_lexer": "ipython3",
   "version": "3.7.3"
  }
 },
 "nbformat": 4,
 "nbformat_minor": 2
}
