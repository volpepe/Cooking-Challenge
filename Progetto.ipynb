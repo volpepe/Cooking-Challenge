{
 "cells": [
  {
   "cell_type": "markdown",
   "metadata": {},
   "source": [
    "<center>\n",
    "\n",
    "# What's Cooking Challenge\n",
    "\n",
    "### <i> Progetto per l'esame di Programmazione di applicazioni di Data Intensive (2019) </i>\n",
    "\n",
    "### Cichetti Federico, Sponziello Nicolò\n",
    "</center>"
   ]
  },
  {
   "cell_type": "markdown",
   "metadata": {},
   "source": [
    "Il progetto ha lo scopo di creare un modello in grado di classificare il tipo di cucina di una ricetta in base agli ingredienti forniti."
   ]
  },
  {
   "cell_type": "markdown",
   "metadata": {},
   "source": [
    "## Librerie"
   ]
  },
  {
   "cell_type": "code",
   "execution_count": 1,
   "metadata": {},
   "outputs": [
    {
     "name": "stderr",
     "output_type": "stream",
     "text": [
      "[nltk_data] Downloading package punkt to /home/nicolo/nltk_data...\n",
      "[nltk_data]   Package punkt is already up-to-date!\n",
      "[nltk_data] Downloading package averaged_perceptron_tagger to\n",
      "[nltk_data]     /home/nicolo/nltk_data...\n",
      "[nltk_data]   Package averaged_perceptron_tagger is already up-to-\n",
      "[nltk_data]       date!\n",
      "[nltk_data] Downloading package stopwords to /home/nicolo/nltk_data...\n",
      "[nltk_data]   Package stopwords is already up-to-date!\n",
      "[nltk_data] Downloading package wordnet to /home/nicolo/nltk_data...\n",
      "[nltk_data]   Package wordnet is already up-to-date!\n"
     ]
    },
    {
     "data": {
      "text/plain": [
       "True"
      ]
     },
     "execution_count": 1,
     "metadata": {},
     "output_type": "execute_result"
    }
   ],
   "source": [
    "import numpy as np\n",
    "import pandas as pd\n",
    "import matplotlib.pyplot as plt\n",
    "import nltk\n",
    "import pickle\n",
    "import random\n",
    "from collections import defaultdict\n",
    "from sklearn.model_selection import train_test_split\n",
    "from sklearn.pipeline import Pipeline\n",
    "from sklearn.preprocessing import StandardScaler\n",
    "from sklearn.linear_model import LogisticRegression, Perceptron\n",
    "from sklearn.feature_extraction.text import TfidfVectorizer\n",
    "from sklearn.model_selection import GridSearchCV\n",
    "from sklearn.metrics import confusion_matrix\n",
    "from sklearn.metrics import precision_score, recall_score, f1_score\n",
    "from sklearn.svm import SVC\n",
    "\n",
    "%matplotlib inline\n",
    "\n",
    "nltk.download(\"punkt\")\n",
    "nltk.download('averaged_perceptron_tagger')\n",
    "nltk.download(\"stopwords\")\n",
    "nltk.download(\"wordnet\")"
   ]
  },
  {
   "cell_type": "markdown",
   "metadata": {},
   "source": [
    "## Esplorazione dei dati"
   ]
  },
  {
   "cell_type": "markdown",
   "metadata": {},
   "source": [
    "Partiamo caricando i dati in un dataframe Pandas e visualizzandone una parte per capire come sono strutturati"
   ]
  },
  {
   "cell_type": "code",
   "execution_count": 2,
   "metadata": {},
   "outputs": [],
   "source": [
    "df = pd.read_json(\"train.json\")\n",
    "pd.options.display.max_colwidth = 500"
   ]
  },
  {
   "cell_type": "code",
   "execution_count": 3,
   "metadata": {
    "scrolled": true
   },
   "outputs": [
    {
     "data": {
      "text/html": [
       "<div>\n",
       "<style scoped>\n",
       "    .dataframe tbody tr th:only-of-type {\n",
       "        vertical-align: middle;\n",
       "    }\n",
       "\n",
       "    .dataframe tbody tr th {\n",
       "        vertical-align: top;\n",
       "    }\n",
       "\n",
       "    .dataframe thead th {\n",
       "        text-align: right;\n",
       "    }\n",
       "</style>\n",
       "<table border=\"1\" class=\"dataframe\">\n",
       "  <thead>\n",
       "    <tr style=\"text-align: right;\">\n",
       "      <th></th>\n",
       "      <th>cuisine</th>\n",
       "      <th>id</th>\n",
       "      <th>ingredients</th>\n",
       "    </tr>\n",
       "  </thead>\n",
       "  <tbody>\n",
       "    <tr>\n",
       "      <th>0</th>\n",
       "      <td>greek</td>\n",
       "      <td>10259</td>\n",
       "      <td>[romaine lettuce, black olives, grape tomatoes, garlic, pepper, purple onion, seasoning, garbanzo beans, feta cheese crumbles]</td>\n",
       "    </tr>\n",
       "    <tr>\n",
       "      <th>1</th>\n",
       "      <td>southern_us</td>\n",
       "      <td>25693</td>\n",
       "      <td>[plain flour, ground pepper, salt, tomatoes, ground black pepper, thyme, eggs, green tomatoes, yellow corn meal, milk, vegetable oil]</td>\n",
       "    </tr>\n",
       "    <tr>\n",
       "      <th>2</th>\n",
       "      <td>filipino</td>\n",
       "      <td>20130</td>\n",
       "      <td>[eggs, pepper, salt, mayonaise, cooking oil, green chilies, grilled chicken breasts, garlic powder, yellow onion, soy sauce, butter, chicken livers]</td>\n",
       "    </tr>\n",
       "    <tr>\n",
       "      <th>3</th>\n",
       "      <td>indian</td>\n",
       "      <td>22213</td>\n",
       "      <td>[water, vegetable oil, wheat, salt]</td>\n",
       "    </tr>\n",
       "    <tr>\n",
       "      <th>4</th>\n",
       "      <td>indian</td>\n",
       "      <td>13162</td>\n",
       "      <td>[black pepper, shallots, cornflour, cayenne pepper, onions, garlic paste, milk, butter, salt, lemon juice, water, chili powder, passata, oil, ground cumin, boneless chicken skinless thigh, garam masala, double cream, natural yogurt, bay leaf]</td>\n",
       "    </tr>\n",
       "  </tbody>\n",
       "</table>\n",
       "</div>"
      ],
      "text/plain": [
       "       cuisine     id  \\\n",
       "0        greek  10259   \n",
       "1  southern_us  25693   \n",
       "2     filipino  20130   \n",
       "3       indian  22213   \n",
       "4       indian  13162   \n",
       "\n",
       "                                                                                                                                                                                                                                          ingredients  \n",
       "0                                                                                                                      [romaine lettuce, black olives, grape tomatoes, garlic, pepper, purple onion, seasoning, garbanzo beans, feta cheese crumbles]  \n",
       "1                                                                                                               [plain flour, ground pepper, salt, tomatoes, ground black pepper, thyme, eggs, green tomatoes, yellow corn meal, milk, vegetable oil]  \n",
       "2                                                                                                [eggs, pepper, salt, mayonaise, cooking oil, green chilies, grilled chicken breasts, garlic powder, yellow onion, soy sauce, butter, chicken livers]  \n",
       "3                                                                                                                                                                                                                 [water, vegetable oil, wheat, salt]  \n",
       "4  [black pepper, shallots, cornflour, cayenne pepper, onions, garlic paste, milk, butter, salt, lemon juice, water, chili powder, passata, oil, ground cumin, boneless chicken skinless thigh, garam masala, double cream, natural yogurt, bay leaf]  "
      ]
     },
     "execution_count": 3,
     "metadata": {},
     "output_type": "execute_result"
    }
   ],
   "source": [
    "df.head()"
   ]
  },
  {
   "cell_type": "code",
   "execution_count": 4,
   "metadata": {
    "scrolled": false
   },
   "outputs": [
    {
     "data": {
      "text/html": [
       "<div>\n",
       "<style scoped>\n",
       "    .dataframe tbody tr th:only-of-type {\n",
       "        vertical-align: middle;\n",
       "    }\n",
       "\n",
       "    .dataframe tbody tr th {\n",
       "        vertical-align: top;\n",
       "    }\n",
       "\n",
       "    .dataframe thead th {\n",
       "        text-align: right;\n",
       "    }\n",
       "</style>\n",
       "<table border=\"1\" class=\"dataframe\">\n",
       "  <thead>\n",
       "    <tr style=\"text-align: right;\">\n",
       "      <th></th>\n",
       "      <th>cuisine</th>\n",
       "      <th>id</th>\n",
       "      <th>ingredients</th>\n",
       "    </tr>\n",
       "  </thead>\n",
       "  <tbody>\n",
       "    <tr>\n",
       "      <th>39769</th>\n",
       "      <td>irish</td>\n",
       "      <td>29109</td>\n",
       "      <td>[light brown sugar, granulated sugar, butter, warm water, large eggs, all-purpose flour, whole wheat flour, cooking spray, boiling water, steel-cut oats, dry yeast, salt]</td>\n",
       "    </tr>\n",
       "    <tr>\n",
       "      <th>39770</th>\n",
       "      <td>italian</td>\n",
       "      <td>11462</td>\n",
       "      <td>[KRAFT Zesty Italian Dressing, purple onion, broccoli florets, rotini, pitted black olives, Kraft Grated Parmesan Cheese, red pepper]</td>\n",
       "    </tr>\n",
       "    <tr>\n",
       "      <th>39771</th>\n",
       "      <td>irish</td>\n",
       "      <td>2238</td>\n",
       "      <td>[eggs, citrus fruit, raisins, sourdough starter, flour, hot tea, sugar, ground nutmeg, salt, ground cinnamon, milk, butter]</td>\n",
       "    </tr>\n",
       "    <tr>\n",
       "      <th>39772</th>\n",
       "      <td>chinese</td>\n",
       "      <td>41882</td>\n",
       "      <td>[boneless chicken skinless thigh, minced garlic, steamed white rice, baking powder, corn starch, dark soy sauce, kosher salt, peanuts, flour, scallions, Chinese rice vinegar, vodka, fresh ginger, egg whites, broccoli, toasted sesame seeds, sugar, store bought low sodium chicken stock, baking soda, Shaoxing wine, oil]</td>\n",
       "    </tr>\n",
       "    <tr>\n",
       "      <th>39773</th>\n",
       "      <td>mexican</td>\n",
       "      <td>2362</td>\n",
       "      <td>[green chile, jalapeno chilies, onions, ground black pepper, salt, chopped cilantro fresh, green bell pepper, garlic, white sugar, roma tomatoes, celery, dried oregano]</td>\n",
       "    </tr>\n",
       "  </tbody>\n",
       "</table>\n",
       "</div>"
      ],
      "text/plain": [
       "       cuisine     id  \\\n",
       "39769    irish  29109   \n",
       "39770  italian  11462   \n",
       "39771    irish   2238   \n",
       "39772  chinese  41882   \n",
       "39773  mexican   2362   \n",
       "\n",
       "                                                                                                                                                                                                                                                                                                                          ingredients  \n",
       "39769                                                                                                                                                      [light brown sugar, granulated sugar, butter, warm water, large eggs, all-purpose flour, whole wheat flour, cooking spray, boiling water, steel-cut oats, dry yeast, salt]  \n",
       "39770                                                                                                                                                                                           [KRAFT Zesty Italian Dressing, purple onion, broccoli florets, rotini, pitted black olives, Kraft Grated Parmesan Cheese, red pepper]  \n",
       "39771                                                                                                                                                                                                     [eggs, citrus fruit, raisins, sourdough starter, flour, hot tea, sugar, ground nutmeg, salt, ground cinnamon, milk, butter]  \n",
       "39772  [boneless chicken skinless thigh, minced garlic, steamed white rice, baking powder, corn starch, dark soy sauce, kosher salt, peanuts, flour, scallions, Chinese rice vinegar, vodka, fresh ginger, egg whites, broccoli, toasted sesame seeds, sugar, store bought low sodium chicken stock, baking soda, Shaoxing wine, oil]  \n",
       "39773                                                                                                                                                        [green chile, jalapeno chilies, onions, ground black pepper, salt, chopped cilantro fresh, green bell pepper, garlic, white sugar, roma tomatoes, celery, dried oregano]  "
      ]
     },
     "execution_count": 4,
     "metadata": {},
     "output_type": "execute_result"
    }
   ],
   "source": [
    "df.tail()"
   ]
  },
  {
   "cell_type": "markdown",
   "metadata": {},
   "source": [
    "Il dataframe ha tre colonne:\n",
    "- \"cuisine\" indica il tipo di cucina a cui appartiene il piatto. Questa sarà l'incognita da scoprire.\n",
    "- \"id\" è una colonna che contiene un numero identificativo di ogni piatto. Questo dato non è utile al problema, quindi decidiamo di eliminare la colonna e usare come identificativo l'indice aggiunto in automatico da Pandas.\n",
    "- \"ingredients\" contiene la lista di ingredienti del piatto."
   ]
  },
  {
   "cell_type": "code",
   "execution_count": 5,
   "metadata": {},
   "outputs": [
    {
     "data": {
      "text/html": [
       "<div>\n",
       "<style scoped>\n",
       "    .dataframe tbody tr th:only-of-type {\n",
       "        vertical-align: middle;\n",
       "    }\n",
       "\n",
       "    .dataframe tbody tr th {\n",
       "        vertical-align: top;\n",
       "    }\n",
       "\n",
       "    .dataframe thead th {\n",
       "        text-align: right;\n",
       "    }\n",
       "</style>\n",
       "<table border=\"1\" class=\"dataframe\">\n",
       "  <thead>\n",
       "    <tr style=\"text-align: right;\">\n",
       "      <th></th>\n",
       "      <th>cuisine</th>\n",
       "      <th>ingredients</th>\n",
       "    </tr>\n",
       "  </thead>\n",
       "  <tbody>\n",
       "    <tr>\n",
       "      <th>0</th>\n",
       "      <td>greek</td>\n",
       "      <td>[romaine lettuce, black olives, grape tomatoes, garlic, pepper, purple onion, seasoning, garbanzo beans, feta cheese crumbles]</td>\n",
       "    </tr>\n",
       "    <tr>\n",
       "      <th>1</th>\n",
       "      <td>southern_us</td>\n",
       "      <td>[plain flour, ground pepper, salt, tomatoes, ground black pepper, thyme, eggs, green tomatoes, yellow corn meal, milk, vegetable oil]</td>\n",
       "    </tr>\n",
       "    <tr>\n",
       "      <th>2</th>\n",
       "      <td>filipino</td>\n",
       "      <td>[eggs, pepper, salt, mayonaise, cooking oil, green chilies, grilled chicken breasts, garlic powder, yellow onion, soy sauce, butter, chicken livers]</td>\n",
       "    </tr>\n",
       "    <tr>\n",
       "      <th>3</th>\n",
       "      <td>indian</td>\n",
       "      <td>[water, vegetable oil, wheat, salt]</td>\n",
       "    </tr>\n",
       "    <tr>\n",
       "      <th>4</th>\n",
       "      <td>indian</td>\n",
       "      <td>[black pepper, shallots, cornflour, cayenne pepper, onions, garlic paste, milk, butter, salt, lemon juice, water, chili powder, passata, oil, ground cumin, boneless chicken skinless thigh, garam masala, double cream, natural yogurt, bay leaf]</td>\n",
       "    </tr>\n",
       "  </tbody>\n",
       "</table>\n",
       "</div>"
      ],
      "text/plain": [
       "       cuisine  \\\n",
       "0        greek   \n",
       "1  southern_us   \n",
       "2     filipino   \n",
       "3       indian   \n",
       "4       indian   \n",
       "\n",
       "                                                                                                                                                                                                                                          ingredients  \n",
       "0                                                                                                                      [romaine lettuce, black olives, grape tomatoes, garlic, pepper, purple onion, seasoning, garbanzo beans, feta cheese crumbles]  \n",
       "1                                                                                                               [plain flour, ground pepper, salt, tomatoes, ground black pepper, thyme, eggs, green tomatoes, yellow corn meal, milk, vegetable oil]  \n",
       "2                                                                                                [eggs, pepper, salt, mayonaise, cooking oil, green chilies, grilled chicken breasts, garlic powder, yellow onion, soy sauce, butter, chicken livers]  \n",
       "3                                                                                                                                                                                                                 [water, vegetable oil, wheat, salt]  \n",
       "4  [black pepper, shallots, cornflour, cayenne pepper, onions, garlic paste, milk, butter, salt, lemon juice, water, chili powder, passata, oil, ground cumin, boneless chicken skinless thigh, garam masala, double cream, natural yogurt, bay leaf]  "
      ]
     },
     "execution_count": 5,
     "metadata": {},
     "output_type": "execute_result"
    }
   ],
   "source": [
    "if \"id\" in df:\n",
    "    df.drop(\"id\", inplace=True, axis=1)\n",
    "df.head()"
   ]
  },
  {
   "cell_type": "markdown",
   "metadata": {},
   "source": [
    "Prima di procedere si esplorano e visualizzano alcuni dati, in particolare:\n",
    "* Quante ricette sono presenti\n",
    "* La totalità degli ingredienti"
   ]
  },
  {
   "cell_type": "code",
   "execution_count": 6,
   "metadata": {},
   "outputs": [
    {
     "data": {
      "text/plain": [
       "39774"
      ]
     },
     "execution_count": 6,
     "metadata": {},
     "output_type": "execute_result"
    }
   ],
   "source": [
    "len(df)"
   ]
  },
  {
   "cell_type": "markdown",
   "metadata": {},
   "source": [
    "Le ricette da classificare nel dataset sono 39774 in totale."
   ]
  },
  {
   "cell_type": "code",
   "execution_count": 7,
   "metadata": {},
   "outputs": [
    {
     "data": {
      "text/plain": [
       "20"
      ]
     },
     "execution_count": 7,
     "metadata": {},
     "output_type": "execute_result"
    }
   ],
   "source": [
    "len(df['cuisine'].unique())"
   ]
  },
  {
   "cell_type": "markdown",
   "metadata": {},
   "source": [
    "In totale ci sono 20 tipi di cucine differenti. Si tratta quindi di un problema di classificazione multiclasse.\n",
    "Controlliamo quanti piatti ci sono per ogni cucina."
   ]
  },
  {
   "cell_type": "code",
   "execution_count": 8,
   "metadata": {
    "scrolled": true
   },
   "outputs": [
    {
     "data": {
      "text/plain": [
       "italian         7838\n",
       "mexican         6438\n",
       "southern_us     4320\n",
       "indian          3003\n",
       "chinese         2673\n",
       "french          2646\n",
       "cajun_creole    1546\n",
       "thai            1539\n",
       "japanese        1423\n",
       "greek           1175\n",
       "spanish          989\n",
       "korean           830\n",
       "vietnamese       825\n",
       "moroccan         821\n",
       "british          804\n",
       "filipino         755\n",
       "irish            667\n",
       "jamaican         526\n",
       "russian          489\n",
       "brazilian        467\n",
       "Name: cuisine, dtype: int64"
      ]
     },
     "execution_count": 8,
     "metadata": {},
     "output_type": "execute_result"
    }
   ],
   "source": [
    "df['cuisine'].value_counts()"
   ]
  },
  {
   "cell_type": "code",
   "execution_count": 9,
   "metadata": {},
   "outputs": [
    {
     "data": {
      "text/plain": [
       "<matplotlib.axes._subplots.AxesSubplot at 0x7f467fdc6438>"
      ]
     },
     "execution_count": 9,
     "metadata": {},
     "output_type": "execute_result"
    },
    {
     "data": {
      "image/png": "[encoded data removed]",
      "text/plain": [
       "<Figure size 432x288 with 1 Axes>"
      ]
     },
     "metadata": {
      "needs_background": "light"
     },
     "output_type": "display_data"
    }
   ],
   "source": [
    "df['cuisine'].value_counts().plot(\"bar\")"
   ]
  },
  {
   "cell_type": "code",
   "execution_count": 10,
   "metadata": {},
   "outputs": [
    {
     "data": {
      "text/plain": [
       "<matplotlib.axes._subplots.AxesSubplot at 0x7f467fc8fef0>"
      ]
     },
     "execution_count": 10,
     "metadata": {},
     "output_type": "execute_result"
    },
    {
     "data": {
      "image/png": "[encoded data removed]",
      "text/plain": [
       "<Figure size 864x864 with 1 Axes>"
      ]
     },
     "metadata": {},
     "output_type": "display_data"
    }
   ],
   "source": [
    "plt.figure(figsize=(12, 12))\n",
    "df['cuisine'].value_counts().plot.pie()"
   ]
  },
  {
   "cell_type": "markdown",
   "metadata": {},
   "source": [
    "Dal grafico possiamo notare che le classi sono sbilanciate, cioè sono presenti molte ricette che vengono identificate come cucina italiana e messicana, mentre ci sono poche ricette russe e brasiliane."
   ]
  },
  {
   "cell_type": "markdown",
   "metadata": {},
   "source": [
    "Per analizzare gli ingredienti, per adesso usiamo un approccio iterativo. Si crea un set di ingredienti in modo da eliminare eventuali duplicati."
   ]
  },
  {
   "cell_type": "code",
   "execution_count": 11,
   "metadata": {},
   "outputs": [],
   "source": [
    "ingredients = set()\n",
    "for recipe in df['ingredients']:\n",
    "    for i in recipe:\n",
    "        ingredients.add(i)"
   ]
  },
  {
   "cell_type": "code",
   "execution_count": 12,
   "metadata": {},
   "outputs": [
    {
     "data": {
      "text/plain": [
       "6714"
      ]
     },
     "execution_count": 12,
     "metadata": {},
     "output_type": "execute_result"
    }
   ],
   "source": [
    "len(ingredients)"
   ]
  },
  {
   "cell_type": "markdown",
   "metadata": {},
   "source": [
    "In totale notiamo che in tutto ci sono 6714 ingredienti diversi nel dataset."
   ]
  },
  {
   "cell_type": "markdown",
   "metadata": {},
   "source": [
    "Visualizziamo quelli più usati. Per fare questo gli ingredienti vanno inseriti in una lista in modo da mantenere i duplicati che poi dovranno essere contati."
   ]
  },
  {
   "cell_type": "code",
   "execution_count": 13,
   "metadata": {},
   "outputs": [],
   "source": [
    "ingredients_list = list()\n",
    "for i in df['ingredients']:\n",
    "    for word in i:\n",
    "        ingredients_list.append(word)"
   ]
  },
  {
   "cell_type": "code",
   "execution_count": 14,
   "metadata": {},
   "outputs": [
    {
     "data": {
      "text/plain": [
       "salt                   18049\n",
       "onions                  7972\n",
       "olive oil               7972\n",
       "water                   7457\n",
       "garlic                  7380\n",
       "sugar                   6434\n",
       "garlic cloves           6237\n",
       "butter                  4848\n",
       "ground black pepper     4785\n",
       "all-purpose flour       4632\n",
       "pepper                  4438\n",
       "vegetable oil           4385\n",
       "eggs                    3388\n",
       "soy sauce               3296\n",
       "kosher salt             3113\n",
       "dtype: int64"
      ]
     },
     "execution_count": 14,
     "metadata": {},
     "output_type": "execute_result"
    }
   ],
   "source": [
    "common_ingredients = pd.Series(ingredients_list)\n",
    "common_ingredients.value_counts().nlargest(15)"
   ]
  },
  {
   "cell_type": "markdown",
   "metadata": {},
   "source": [
    "Questi sono gli ingredienti più comuni"
   ]
  },
  {
   "cell_type": "code",
   "execution_count": 15,
   "metadata": {},
   "outputs": [
    {
     "data": {
      "text/plain": [
       "<matplotlib.axes._subplots.AxesSubplot at 0x7f467fbd2470>"
      ]
     },
     "execution_count": 15,
     "metadata": {},
     "output_type": "execute_result"
    },
    {
     "data": {
      "image/png": "[encoded data removed]",
      "text/plain": [
       "<Figure size 432x288 with 1 Axes>"
      ]
     },
     "metadata": {
      "needs_background": "light"
     },
     "output_type": "display_data"
    }
   ],
   "source": [
    "common_ingredients.value_counts().nlargest(20).plot(kind=\"bar\")"
   ]
  },
  {
   "cell_type": "markdown",
   "metadata": {},
   "source": [
    "Visualizziamo ora gli ingredienti più comuni per ogni cucina. Si crea un dizionario che contiene per ogni cucina un dizionario ingrediente -> numero di occorrenze e lo si ordina per tale conteggio. Possiamo poi costruire un DataFrame per visualizzare efficacemente quali sono gli ingredienti più usati."
   ]
  },
  {
   "cell_type": "code",
   "execution_count": 16,
   "metadata": {},
   "outputs": [],
   "source": [
    "tmp = df.groupby('cuisine')['ingredients'].apply(list)\n",
    "\n",
    "def most_common_ingr_by_cuisine(cuisine):\n",
    "    lists = tmp[cuisine]\n",
    "    res = defaultdict(int)\n",
    "    for recipe in lists:\n",
    "        for ingr in recipe:\n",
    "            res[ingr] += 1\n",
    "    return sorted(res.items(), key=lambda x: x[1], reverse=True)"
   ]
  },
  {
   "cell_type": "markdown",
   "metadata": {},
   "source": [
    "Chiamando la funzione qui sopra passando, ad esempio, la classe \"italian\" possiamo vedere che sale, olio di oliva, aglio e parmigiano sono alcuni degli ingredienti più comuni della cucina italiana."
   ]
  },
  {
   "cell_type": "code",
   "execution_count": 17,
   "metadata": {
    "scrolled": true
   },
   "outputs": [
    {
     "data": {
      "text/html": [
       "<div>\n",
       "<style scoped>\n",
       "    .dataframe tbody tr th:only-of-type {\n",
       "        vertical-align: middle;\n",
       "    }\n",
       "\n",
       "    .dataframe tbody tr th {\n",
       "        vertical-align: top;\n",
       "    }\n",
       "\n",
       "    .dataframe thead th {\n",
       "        text-align: right;\n",
       "    }\n",
       "</style>\n",
       "<table border=\"1\" class=\"dataframe\">\n",
       "  <thead>\n",
       "    <tr style=\"text-align: right;\">\n",
       "      <th></th>\n",
       "      <th>ingredient</th>\n",
       "      <th>count</th>\n",
       "    </tr>\n",
       "  </thead>\n",
       "  <tbody>\n",
       "    <tr>\n",
       "      <th>0</th>\n",
       "      <td>salt</td>\n",
       "      <td>3454</td>\n",
       "    </tr>\n",
       "    <tr>\n",
       "      <th>1</th>\n",
       "      <td>olive oil</td>\n",
       "      <td>3111</td>\n",
       "    </tr>\n",
       "    <tr>\n",
       "      <th>2</th>\n",
       "      <td>garlic cloves</td>\n",
       "      <td>1619</td>\n",
       "    </tr>\n",
       "    <tr>\n",
       "      <th>3</th>\n",
       "      <td>grated parmesan cheese</td>\n",
       "      <td>1580</td>\n",
       "    </tr>\n",
       "    <tr>\n",
       "      <th>4</th>\n",
       "      <td>garlic</td>\n",
       "      <td>1471</td>\n",
       "    </tr>\n",
       "    <tr>\n",
       "      <th>5</th>\n",
       "      <td>ground black pepper</td>\n",
       "      <td>1444</td>\n",
       "    </tr>\n",
       "    <tr>\n",
       "      <th>6</th>\n",
       "      <td>extra-virgin olive oil</td>\n",
       "      <td>1362</td>\n",
       "    </tr>\n",
       "    <tr>\n",
       "      <th>7</th>\n",
       "      <td>onions</td>\n",
       "      <td>1240</td>\n",
       "    </tr>\n",
       "    <tr>\n",
       "      <th>8</th>\n",
       "      <td>water</td>\n",
       "      <td>1052</td>\n",
       "    </tr>\n",
       "    <tr>\n",
       "      <th>9</th>\n",
       "      <td>butter</td>\n",
       "      <td>1030</td>\n",
       "    </tr>\n",
       "  </tbody>\n",
       "</table>\n",
       "</div>"
      ],
      "text/plain": [
       "               ingredient  count\n",
       "0                    salt   3454\n",
       "1               olive oil   3111\n",
       "2           garlic cloves   1619\n",
       "3  grated parmesan cheese   1580\n",
       "4                  garlic   1471\n",
       "5     ground black pepper   1444\n",
       "6  extra-virgin olive oil   1362\n",
       "7                  onions   1240\n",
       "8                   water   1052\n",
       "9                  butter   1030"
      ]
     },
     "execution_count": 17,
     "metadata": {},
     "output_type": "execute_result"
    }
   ],
   "source": [
    "commons_ital = pd.DataFrame(most_common_ingr_by_cuisine('italian'), columns=[\"ingredient\", \"count\"]).head(10)\n",
    "commons_ital"
   ]
  },
  {
   "cell_type": "markdown",
   "metadata": {},
   "source": [
    "In realtà il sale è l'ingrediente più comune per molte cucine."
   ]
  },
  {
   "cell_type": "code",
   "execution_count": 18,
   "metadata": {
    "scrolled": false
   },
   "outputs": [
    {
     "data": {
      "text/html": [
       "<div>\n",
       "<style scoped>\n",
       "    .dataframe tbody tr th:only-of-type {\n",
       "        vertical-align: middle;\n",
       "    }\n",
       "\n",
       "    .dataframe tbody tr th {\n",
       "        vertical-align: top;\n",
       "    }\n",
       "\n",
       "    .dataframe thead th {\n",
       "        text-align: right;\n",
       "    }\n",
       "</style>\n",
       "<table border=\"1\" class=\"dataframe\">\n",
       "  <thead>\n",
       "    <tr style=\"text-align: right;\">\n",
       "      <th></th>\n",
       "      <th>ingredient</th>\n",
       "      <th>count</th>\n",
       "    </tr>\n",
       "  </thead>\n",
       "  <tbody>\n",
       "    <tr>\n",
       "      <th>0</th>\n",
       "      <td>salt</td>\n",
       "      <td>1203</td>\n",
       "    </tr>\n",
       "    <tr>\n",
       "      <th>1</th>\n",
       "      <td>sugar</td>\n",
       "      <td>637</td>\n",
       "    </tr>\n",
       "    <tr>\n",
       "      <th>2</th>\n",
       "      <td>all-purpose flour</td>\n",
       "      <td>593</td>\n",
       "    </tr>\n",
       "  </tbody>\n",
       "</table>\n",
       "</div>"
      ],
      "text/plain": [
       "          ingredient  count\n",
       "0               salt   1203\n",
       "1              sugar    637\n",
       "2  all-purpose flour    593"
      ]
     },
     "execution_count": 18,
     "metadata": {},
     "output_type": "execute_result"
    }
   ],
   "source": [
    "pd.DataFrame(most_common_ingr_by_cuisine('french'), columns=[\"ingredient\", \"count\"]).head(3)"
   ]
  },
  {
   "cell_type": "code",
   "execution_count": 19,
   "metadata": {
    "scrolled": true
   },
   "outputs": [
    {
     "data": {
      "text/html": [
       "<div>\n",
       "<style scoped>\n",
       "    .dataframe tbody tr th:only-of-type {\n",
       "        vertical-align: middle;\n",
       "    }\n",
       "\n",
       "    .dataframe tbody tr th {\n",
       "        vertical-align: top;\n",
       "    }\n",
       "\n",
       "    .dataframe thead th {\n",
       "        text-align: right;\n",
       "    }\n",
       "</style>\n",
       "<table border=\"1\" class=\"dataframe\">\n",
       "  <thead>\n",
       "    <tr style=\"text-align: right;\">\n",
       "      <th></th>\n",
       "      <th>ingredient</th>\n",
       "      <th>count</th>\n",
       "    </tr>\n",
       "  </thead>\n",
       "  <tbody>\n",
       "    <tr>\n",
       "      <th>0</th>\n",
       "      <td>salt</td>\n",
       "      <td>194</td>\n",
       "    </tr>\n",
       "    <tr>\n",
       "      <th>1</th>\n",
       "      <td>onions</td>\n",
       "      <td>133</td>\n",
       "    </tr>\n",
       "    <tr>\n",
       "      <th>2</th>\n",
       "      <td>olive oil</td>\n",
       "      <td>118</td>\n",
       "    </tr>\n",
       "  </tbody>\n",
       "</table>\n",
       "</div>"
      ],
      "text/plain": [
       "  ingredient  count\n",
       "0       salt    194\n",
       "1     onions    133\n",
       "2  olive oil    118"
      ]
     },
     "execution_count": 19,
     "metadata": {},
     "output_type": "execute_result"
    }
   ],
   "source": [
    "pd.DataFrame(most_common_ingr_by_cuisine('brazilian'), columns=[\"ingredient\", \"count\"]).head(3)"
   ]
  },
  {
   "cell_type": "markdown",
   "metadata": {},
   "source": [
    "Definiamo ora una funzione che restituisca il numero di ingredienti medio per ogni ricetta di una determinata cucina."
   ]
  },
  {
   "cell_type": "code",
   "execution_count": 20,
   "metadata": {},
   "outputs": [
    {
     "data": {
      "text/plain": [
       "9.5203426124197"
      ]
     },
     "execution_count": 20,
     "metadata": {},
     "output_type": "execute_result"
    }
   ],
   "source": [
    "def avg_ingr_per_recipe(cuisine):\n",
    "    recipes = tmp[cuisine]\n",
    "    count = 0;\n",
    "    for recipe in recipes:\n",
    "        for ingr in recipe:\n",
    "            count += 1;\n",
    "    return count/len(recipes)\n",
    "\n",
    "avg_ingr_per_recipe('brazilian')"
   ]
  },
  {
   "cell_type": "code",
   "execution_count": 21,
   "metadata": {},
   "outputs": [
    {
     "data": {
      "text/plain": [
       "{'greek': 10.182127659574467,\n",
       " 'southern_us': 9.634953703703705,\n",
       " 'filipino': 10.0,\n",
       " 'indian': 12.705960705960706,\n",
       " 'jamaican': 12.214828897338403,\n",
       " 'spanish': 10.42366026289181,\n",
       " 'italian': 9.909032916560347,\n",
       " 'mexican': 10.87744641192917,\n",
       " 'chinese': 11.98279087167976,\n",
       " 'british': 9.708955223880597,\n",
       " 'thai': 12.545808966861598,\n",
       " 'vietnamese': 12.675151515151516,\n",
       " 'cajun_creole': 12.617076326002588,\n",
       " 'brazilian': 9.5203426124197,\n",
       " 'french': 9.817838246409675,\n",
       " 'japanese': 9.735066760365426,\n",
       " 'irish': 9.299850074962519,\n",
       " 'korean': 11.28433734939759,\n",
       " 'moroccan': 12.909866017052375,\n",
       " 'russian': 10.224948875255624}"
      ]
     },
     "execution_count": 21,
     "metadata": {},
     "output_type": "execute_result"
    }
   ],
   "source": [
    "average = {cuisine: avg_ingr_per_recipe(cuisine) for cuisine in df['cuisine'].unique()}\n",
    "average"
   ]
  },
  {
   "cell_type": "code",
   "execution_count": 22,
   "metadata": {},
   "outputs": [
    {
     "data": {
      "image/png": "[encoded data removed]",
      "text/plain": [
       "<Figure size 1512x216 with 1 Axes>"
      ]
     },
     "metadata": {
      "needs_background": "light"
     },
     "output_type": "display_data"
    }
   ],
   "source": [
    "plt.figure(figsize=(21, 3))\n",
    "plt.bar(average.keys(), average.values(), align=\"center\", width=0.5)\n",
    "plt.title(\"Ingredienti medi per ricetta per ogni cucina\")\n",
    "plt.show()"
   ]
  },
  {
   "cell_type": "markdown",
   "metadata": {},
   "source": [
    "# Preprocessing dei dati"
   ]
  },
  {
   "cell_type": "markdown",
   "metadata": {},
   "source": [
    "In questa fase, partendo dai risultati dell'analisi, effettuiamo una trasformazione dei dati in modo che siano pronti per essere elaborati dagli algoritmi di learning."
   ]
  },
  {
   "cell_type": "markdown",
   "metadata": {},
   "source": [
    "Come abbiamo potuto notare, il dataframe si compone di righe formate da:\n",
    "\n",
    "- **[cuisine]**: categoria di cucina\n",
    "- **[ingredients]**: lista di ingredienti in formato testuale"
   ]
  },
  {
   "cell_type": "markdown",
   "metadata": {},
   "source": [
    "Una prima domanda che ci si può porre è come gestire gli ingredienti di una ricetta dato che spesso, come emerso dall'analisi dei dati, sono composti da più parole.\n",
    "- Una soluzione possibile è quella di considerarli cosi come sono presenti, cioè \"black olives\" rimarrebbe \"black olives\"\n",
    "- Oppure si potrebbero unire tutti gli ingredienti di una ricetta in un'unica stringa e applicare tecniche di text processing per cercare di estrarre più informazioni possibili\n",
    "    - Stemming, Lemmatization, Bag of Word, Vector Space Model"
   ]
  },
  {
   "cell_type": "markdown",
   "metadata": {},
   "source": [
    "## Binarizzazione"
   ]
  },
  {
   "cell_type": "markdown",
   "metadata": {},
   "source": [
    "Un primo approccio naive sarebbe quello di estrarre dal dataset un set contenente tutti gli ingredienti presenti e binarizzare ogni ricetta.\n",
    "- Ad ogni riga, che rappresenta una ricetta, è associato un vettore di elementi in [0, 1] in cui la cella corrispondente all'ingrediente contiene 1 se è usato nella ricetta, 0 altrimenti.\n",
    "- Avremmo ottenuto un dataset con circa 6700 features e 40'000 istanze, con un'alta occupazione di memoria e lunghi tempi di calcolo."
   ]
  },
  {
   "cell_type": "markdown",
   "metadata": {},
   "source": [
    "Oltre ad essere evidentemente un metodo poco scalabile, lento, e che occupa livelli veramente alti di memoria, lavora considerando troppi ingredienti e probabilmente è troppo complesso per essere efficace. In seguito ad alcuni test non riportati, si è effettivamente rivelato abbastanza inefficiente e inaccurato, motivo per cui sono stati subito scelti approcci differenti, previlegiando soluzioni con un numero di feature ridotto."
   ]
  },
  {
   "cell_type": "markdown",
   "metadata": {},
   "source": [
    "## Vector Space Model"
   ]
  },
  {
   "cell_type": "markdown",
   "metadata": {},
   "source": [
    "Questo modello consente di rappresentare le ricette come vettori all'interno di un iperspazio in cui a ogni singola parola del dizionario comune (in questo caso, ogni singolo ingrediente) viene associato un peso che indica quanto esso contraddistingua la ricetta stessa.\n",
    "Il modello tf-idf si adatta particolarmente bene allo scopo, in quanto:\n",
    "- Associa ad ogni parola un peso che dipende sia dalla frequenza di uso locale Tf (cioè nella stessa ricetta) sia negli altri documenti idf (ricette)\n",
    "- Tutti gli ingredienti vengono mappati\n",
    "- I valori per ogni parola sono normalizzati in [0, 1]\n"
   ]
  },
  {
   "cell_type": "markdown",
   "metadata": {},
   "source": [
    "Di default, un TfidfVectorizer() effettua del preprocessing prima di creare la matrice che contiene i pesi. Questo preprocessing può comprendere l'eliminazione di eventuali stopword (cioè parole inglesi di poca importanza nella comprensione dei contenuti che vengono scartate), segni di punteggiatura e tanto altro. Una possibile variante è quella di considerare le ricette sia divise per singole parole che per n-uple."
   ]
  },
  {
   "cell_type": "markdown",
   "metadata": {},
   "source": [
    "Per prima cosa, manipoliamo la colonna 'ingredients' del dataframe\n",
    "- trasformiamo la lista di ingredienti in un'unica stringa in modo che possa essere letta dal tokenizer"
   ]
  },
  {
   "cell_type": "code",
   "execution_count": 23,
   "metadata": {},
   "outputs": [],
   "source": [
    "for idx in df.index:\n",
    "    txt = \"\"\n",
    "    for ing in df.loc[idx, \"ingredients\"]:\n",
    "        txt += (ing + \" \")\n",
    "    df.loc[idx, \"ingredients\"] = txt"
   ]
  },
  {
   "cell_type": "code",
   "execution_count": 24,
   "metadata": {},
   "outputs": [
    {
     "data": {
      "text/html": [
       "<div>\n",
       "<style scoped>\n",
       "    .dataframe tbody tr th:only-of-type {\n",
       "        vertical-align: middle;\n",
       "    }\n",
       "\n",
       "    .dataframe tbody tr th {\n",
       "        vertical-align: top;\n",
       "    }\n",
       "\n",
       "    .dataframe thead th {\n",
       "        text-align: right;\n",
       "    }\n",
       "</style>\n",
       "<table border=\"1\" class=\"dataframe\">\n",
       "  <thead>\n",
       "    <tr style=\"text-align: right;\">\n",
       "      <th></th>\n",
       "      <th>cuisine</th>\n",
       "      <th>ingredients</th>\n",
       "    </tr>\n",
       "  </thead>\n",
       "  <tbody>\n",
       "    <tr>\n",
       "      <th>0</th>\n",
       "      <td>greek</td>\n",
       "      <td>romaine lettuce black olives grape tomatoes garlic pepper purple onion seasoning garbanzo beans feta cheese crumbles</td>\n",
       "    </tr>\n",
       "    <tr>\n",
       "      <th>1</th>\n",
       "      <td>southern_us</td>\n",
       "      <td>plain flour ground pepper salt tomatoes ground black pepper thyme eggs green tomatoes yellow corn meal milk vegetable oil</td>\n",
       "    </tr>\n",
       "    <tr>\n",
       "      <th>2</th>\n",
       "      <td>filipino</td>\n",
       "      <td>eggs pepper salt mayonaise cooking oil green chilies grilled chicken breasts garlic powder yellow onion soy sauce butter chicken livers</td>\n",
       "    </tr>\n",
       "    <tr>\n",
       "      <th>3</th>\n",
       "      <td>indian</td>\n",
       "      <td>water vegetable oil wheat salt</td>\n",
       "    </tr>\n",
       "    <tr>\n",
       "      <th>4</th>\n",
       "      <td>indian</td>\n",
       "      <td>black pepper shallots cornflour cayenne pepper onions garlic paste milk butter salt lemon juice water chili powder passata oil ground cumin boneless chicken skinless thigh garam masala double cream natural yogurt bay leaf</td>\n",
       "    </tr>\n",
       "  </tbody>\n",
       "</table>\n",
       "</div>"
      ],
      "text/plain": [
       "       cuisine  \\\n",
       "0        greek   \n",
       "1  southern_us   \n",
       "2     filipino   \n",
       "3       indian   \n",
       "4       indian   \n",
       "\n",
       "                                                                                                                                                                                                                      ingredients  \n",
       "0                                                                                                           romaine lettuce black olives grape tomatoes garlic pepper purple onion seasoning garbanzo beans feta cheese crumbles   \n",
       "1                                                                                                      plain flour ground pepper salt tomatoes ground black pepper thyme eggs green tomatoes yellow corn meal milk vegetable oil   \n",
       "2                                                                                        eggs pepper salt mayonaise cooking oil green chilies grilled chicken breasts garlic powder yellow onion soy sauce butter chicken livers   \n",
       "3                                                                                                                                                                                                 water vegetable oil wheat salt   \n",
       "4  black pepper shallots cornflour cayenne pepper onions garlic paste milk butter salt lemon juice water chili powder passata oil ground cumin boneless chicken skinless thigh garam masala double cream natural yogurt bay leaf   "
      ]
     },
     "execution_count": 24,
     "metadata": {},
     "output_type": "execute_result"
    }
   ],
   "source": [
    "df.head()"
   ]
  },
  {
   "cell_type": "markdown",
   "metadata": {},
   "source": [
    "Creiamo i set per il training dei modelli e il calcolo dello score sul validation"
   ]
  },
  {
   "cell_type": "code",
   "execution_count": 25,
   "metadata": {},
   "outputs": [],
   "source": [
    "X_t, X_v, y_t, y_v = train_test_split(df['ingredients'], df['cuisine'], random_state=42, test_size=1/3)"
   ]
  },
  {
   "cell_type": "code",
   "execution_count": 26,
   "metadata": {},
   "outputs": [],
   "source": [
    "import warnings\n",
    "warnings.simplefilter(action='ignore', category=FutureWarning)"
   ]
  },
  {
   "cell_type": "markdown",
   "metadata": {},
   "source": [
    "## Perceptron"
   ]
  },
  {
   "cell_type": "markdown",
   "metadata": {},
   "source": [
    "Iniziamo lo studio dei modelli di classificazione partendo dal più semplice: il Perceptron. Con class_weight=\"balanced\" si fa un tentativo di bilanciare le classi dato che come si è visto ci sono molte più ricette italiane e messicane che altre."
   ]
  },
  {
   "cell_type": "code",
   "execution_count": 27,
   "metadata": {},
   "outputs": [],
   "source": [
    "perceptron = Pipeline([\n",
    "    (\"tfidf\", TfidfVectorizer()),\n",
    "    (\"perc\", Perceptron())\n",
    "])"
   ]
  },
  {
   "cell_type": "markdown",
   "metadata": {},
   "source": [
    "Per ottimizzare i parametri, usiamo la Grid Search\n",
    " - Testiamo anche quale ngram ottimizza lo score"
   ]
  },
  {
   "cell_type": "code",
   "execution_count": 28,
   "metadata": {},
   "outputs": [],
   "source": [
    "grid1 = [{\n",
    "    'tfidf__ngram_range':[(1, 1), (1, 2), (1, 3)],  #considerazioni di unigrammi, bigrammi, trigrammi\n",
    "    'perc__penalty': ['l1', 'l2'], #regolarizzazioni da effettuare\n",
    "    'perc__alpha': 5 * np.logspace(-5, -3, 3), #peso della regolarizzazione\n",
    "    'perc__class_weight': [None, \"balanced\"]\n",
    "},{\n",
    "    'tfidf__ngram_range':[(1, 1), (1, 2), (1, 3)],  #considerazioni di unigrammi, bigrammi, trigrammi\n",
    "    'perc__penalty': [None], #regolarizzazioni da effettuare\n",
    "    'perc__class_weight': [None, \"balanced\"]\n",
    "}\n",
    "]\n",
    "gs_perc = GridSearchCV(perceptron, param_grid=grid1)"
   ]
  },
  {
   "cell_type": "code",
   "execution_count": 29,
   "metadata": {},
   "outputs": [
    {
     "data": {
      "text/plain": [
       "0.745436717453613"
      ]
     },
     "execution_count": 29,
     "metadata": {},
     "output_type": "execute_result"
    }
   ],
   "source": [
    "gs_perc.fit(X_t, y_t)\n",
    "gs_perc.score(X_v, y_v)"
   ]
  },
  {
   "cell_type": "code",
   "execution_count": 30,
   "metadata": {},
   "outputs": [
    {
     "data": {
      "text/html": [
       "<div>\n",
       "<style scoped>\n",
       "    .dataframe tbody tr th:only-of-type {\n",
       "        vertical-align: middle;\n",
       "    }\n",
       "\n",
       "    .dataframe tbody tr th {\n",
       "        vertical-align: top;\n",
       "    }\n",
       "\n",
       "    .dataframe thead th {\n",
       "        text-align: right;\n",
       "    }\n",
       "</style>\n",
       "<table border=\"1\" class=\"dataframe\">\n",
       "  <thead>\n",
       "    <tr style=\"text-align: right;\">\n",
       "      <th></th>\n",
       "      <th>mean_fit_time</th>\n",
       "      <th>std_fit_time</th>\n",
       "      <th>mean_score_time</th>\n",
       "      <th>std_score_time</th>\n",
       "      <th>param_perc__alpha</th>\n",
       "      <th>param_perc__class_weight</th>\n",
       "      <th>param_perc__penalty</th>\n",
       "      <th>param_tfidf__ngram_range</th>\n",
       "      <th>params</th>\n",
       "      <th>split0_test_score</th>\n",
       "      <th>split1_test_score</th>\n",
       "      <th>split2_test_score</th>\n",
       "      <th>mean_test_score</th>\n",
       "      <th>std_test_score</th>\n",
       "      <th>rank_test_score</th>\n",
       "    </tr>\n",
       "  </thead>\n",
       "  <tbody>\n",
       "    <tr>\n",
       "      <th>40</th>\n",
       "      <td>2.431705</td>\n",
       "      <td>0.161522</td>\n",
       "      <td>0.408893</td>\n",
       "      <td>0.042605</td>\n",
       "      <td>NaN</td>\n",
       "      <td>balanced</td>\n",
       "      <td>None</td>\n",
       "      <td>(1, 2)</td>\n",
       "      <td>{'perc__class_weight': 'balanced', 'perc__penalty': None, 'tfidf__ngram_range': (1, 2)}</td>\n",
       "      <td>0.729082</td>\n",
       "      <td>0.740498</td>\n",
       "      <td>0.731318</td>\n",
       "      <td>0.733633</td>\n",
       "      <td>0.004940</td>\n",
       "      <td>1</td>\n",
       "    </tr>\n",
       "    <tr>\n",
       "      <th>37</th>\n",
       "      <td>2.464739</td>\n",
       "      <td>0.515052</td>\n",
       "      <td>0.451157</td>\n",
       "      <td>0.042550</td>\n",
       "      <td>NaN</td>\n",
       "      <td>None</td>\n",
       "      <td>None</td>\n",
       "      <td>(1, 2)</td>\n",
       "      <td>{'perc__class_weight': None, 'perc__penalty': None, 'tfidf__ngram_range': (1, 2)}</td>\n",
       "      <td>0.730552</td>\n",
       "      <td>0.733597</td>\n",
       "      <td>0.734715</td>\n",
       "      <td>0.732954</td>\n",
       "      <td>0.001759</td>\n",
       "      <td>2</td>\n",
       "    </tr>\n",
       "    <tr>\n",
       "      <th>38</th>\n",
       "      <td>3.661336</td>\n",
       "      <td>0.097560</td>\n",
       "      <td>0.594082</td>\n",
       "      <td>0.003183</td>\n",
       "      <td>NaN</td>\n",
       "      <td>None</td>\n",
       "      <td>None</td>\n",
       "      <td>(1, 3)</td>\n",
       "      <td>{'perc__class_weight': None, 'perc__penalty': None, 'tfidf__ngram_range': (1, 3)}</td>\n",
       "      <td>0.731230</td>\n",
       "      <td>0.733258</td>\n",
       "      <td>0.727129</td>\n",
       "      <td>0.730540</td>\n",
       "      <td>0.002549</td>\n",
       "      <td>3</td>\n",
       "    </tr>\n",
       "    <tr>\n",
       "      <th>41</th>\n",
       "      <td>4.876311</td>\n",
       "      <td>0.669171</td>\n",
       "      <td>0.846393</td>\n",
       "      <td>0.076376</td>\n",
       "      <td>NaN</td>\n",
       "      <td>balanced</td>\n",
       "      <td>None</td>\n",
       "      <td>(1, 3)</td>\n",
       "      <td>{'perc__class_weight': 'balanced', 'perc__penalty': None, 'tfidf__ngram_range': (1, 3)}</td>\n",
       "      <td>0.722071</td>\n",
       "      <td>0.727941</td>\n",
       "      <td>0.723505</td>\n",
       "      <td>0.724506</td>\n",
       "      <td>0.002499</td>\n",
       "      <td>4</td>\n",
       "    </tr>\n",
       "    <tr>\n",
       "      <th>36</th>\n",
       "      <td>1.048496</td>\n",
       "      <td>0.198042</td>\n",
       "      <td>0.213753</td>\n",
       "      <td>0.052657</td>\n",
       "      <td>NaN</td>\n",
       "      <td>None</td>\n",
       "      <td>None</td>\n",
       "      <td>(1, 1)</td>\n",
       "      <td>{'perc__class_weight': None, 'perc__penalty': None, 'tfidf__ngram_range': (1, 1)}</td>\n",
       "      <td>0.714043</td>\n",
       "      <td>0.711991</td>\n",
       "      <td>0.719995</td>\n",
       "      <td>0.715342</td>\n",
       "      <td>0.003394</td>\n",
       "      <td>5</td>\n",
       "    </tr>\n",
       "  </tbody>\n",
       "</table>\n",
       "</div>"
      ],
      "text/plain": [
       "    mean_fit_time  std_fit_time  mean_score_time  std_score_time  \\\n",
       "40       2.431705      0.161522         0.408893        0.042605   \n",
       "37       2.464739      0.515052         0.451157        0.042550   \n",
       "38       3.661336      0.097560         0.594082        0.003183   \n",
       "41       4.876311      0.669171         0.846393        0.076376   \n",
       "36       1.048496      0.198042         0.213753        0.052657   \n",
       "\n",
       "   param_perc__alpha param_perc__class_weight param_perc__penalty  \\\n",
       "40               NaN                 balanced                None   \n",
       "37               NaN                     None                None   \n",
       "38               NaN                     None                None   \n",
       "41               NaN                 balanced                None   \n",
       "36               NaN                     None                None   \n",
       "\n",
       "   param_tfidf__ngram_range  \\\n",
       "40                   (1, 2)   \n",
       "37                   (1, 2)   \n",
       "38                   (1, 3)   \n",
       "41                   (1, 3)   \n",
       "36                   (1, 1)   \n",
       "\n",
       "                                                                                     params  \\\n",
       "40  {'perc__class_weight': 'balanced', 'perc__penalty': None, 'tfidf__ngram_range': (1, 2)}   \n",
       "37        {'perc__class_weight': None, 'perc__penalty': None, 'tfidf__ngram_range': (1, 2)}   \n",
       "38        {'perc__class_weight': None, 'perc__penalty': None, 'tfidf__ngram_range': (1, 3)}   \n",
       "41  {'perc__class_weight': 'balanced', 'perc__penalty': None, 'tfidf__ngram_range': (1, 3)}   \n",
       "36        {'perc__class_weight': None, 'perc__penalty': None, 'tfidf__ngram_range': (1, 1)}   \n",
       "\n",
       "    split0_test_score  split1_test_score  split2_test_score  mean_test_score  \\\n",
       "40           0.729082           0.740498           0.731318         0.733633   \n",
       "37           0.730552           0.733597           0.734715         0.732954   \n",
       "38           0.731230           0.733258           0.727129         0.730540   \n",
       "41           0.722071           0.727941           0.723505         0.724506   \n",
       "36           0.714043           0.711991           0.719995         0.715342   \n",
       "\n",
       "    std_test_score  rank_test_score  \n",
       "40        0.004940                1  \n",
       "37        0.001759                2  \n",
       "38        0.002549                3  \n",
       "41        0.002499                4  \n",
       "36        0.003394                5  "
      ]
     },
     "execution_count": 30,
     "metadata": {},
     "output_type": "execute_result"
    }
   ],
   "source": [
    "pd.DataFrame(gs_perc.cv_results_).sort_values(\"rank_test_score\").head(5)"
   ]
  },
  {
   "cell_type": "code",
   "execution_count": 31,
   "metadata": {},
   "outputs": [
    {
     "data": {
      "text/plain": [
       "perc__class_weight    balanced\n",
       "perc__penalty             None\n",
       "tfidf__ngram_range      (1, 2)\n",
       "dtype: object"
      ]
     },
     "execution_count": 31,
     "metadata": {},
     "output_type": "execute_result"
    }
   ],
   "source": [
    "pd.Series(gs_perc.best_params_)"
   ]
  },
  {
   "cell_type": "markdown",
   "metadata": {},
   "source": [
    "Possiamo notare dall'analisi dei risultati prodotti dal Perceptron che le performance migliori si ottengono:\n",
    " - Applicando il bilanciamento delle classi\n",
    " - Senza uso di penalizzazione\n",
    " - Considerando bigrammi"
   ]
  },
  {
   "cell_type": "markdown",
   "metadata": {},
   "source": [
    "Si salva il modello su disco:"
   ]
  },
  {
   "cell_type": "code",
   "execution_count": 32,
   "metadata": {},
   "outputs": [],
   "source": [
    "with open(\"what's_cooking_website/models/model_perc.bin\", \"wb\") as f:\n",
    "    pickle.dump(gs_perc.best_estimator_, f)"
   ]
  },
  {
   "cell_type": "markdown",
   "metadata": {},
   "source": [
    "### Note riguardo al perceptron\n",
    "\n",
    "Questo modello è già abbastanza buono, ma probabilmente si può fare di meglio. A quanto pare non serve inserire \"balanced\" come class weight - proveremo un metodo di bilanciamento più complesso più avanti. Il peso della regolarizzazione deve essere piuttosto piccolo e si preferisce una regolarizzazione di tipo L2.\n",
    "Proviamo l'accuratezza di un modello casuale per vedere quanto si discosta da quella rilevata con il nostro modello."
   ]
  },
  {
   "cell_type": "code",
   "execution_count": 33,
   "metadata": {
    "scrolled": true
   },
   "outputs": [
    {
     "data": {
      "text/plain": [
       "0        italian\n",
       "1        mexican\n",
       "2    southern_us\n",
       "3         indian\n",
       "4        chinese\n",
       "dtype: object"
      ]
     },
     "execution_count": 33,
     "metadata": {},
     "output_type": "execute_result"
    }
   ],
   "source": [
    "cuisines = pd.Series(df[\"cuisine\"].value_counts().keys(), index=range(0, 20, 1))\n",
    "cuisines.head(5)"
   ]
  },
  {
   "cell_type": "code",
   "execution_count": 34,
   "metadata": {},
   "outputs": [
    {
     "name": "stdout",
     "output_type": "stream",
     "text": [
      "True, ['filipino', 'italian', 'brazilian', 'japanese', 'southern_us']\n"
     ]
    }
   ],
   "source": [
    "random_predictions = [cuisines.iloc[random.randint(0, 19)] for i in range(0, len(X_v))]\n",
    "print(str(len(random_predictions) == len(X_v)) + \", \" + str(random_predictions[:5]))"
   ]
  },
  {
   "cell_type": "code",
   "execution_count": 35,
   "metadata": {},
   "outputs": [
    {
     "data": {
      "text/plain": [
       "0.04548197314828783"
      ]
     },
     "execution_count": 35,
     "metadata": {},
     "output_type": "execute_result"
    }
   ],
   "source": [
    "ran_ser = pd.Series(random_predictions)\n",
    "len(ran_ser[ran_ser == pd.Series(y_v.values)]) / len(X_v)"
   ]
  },
  {
   "cell_type": "markdown",
   "metadata": {},
   "source": [
    "L'accuratezza del circa 5% era attesa dato che si tratta di selezionare uno tra venti valori differenti."
   ]
  },
  {
   "cell_type": "markdown",
   "metadata": {},
   "source": [
    "## Miglioramento dei risultati (Regressione Logistica)"
   ]
  },
  {
   "cell_type": "markdown",
   "metadata": {},
   "source": [
    "Proviamo a migliorare il risultato:\n",
    "- Preprocessando in maniera differente i dati\n",
    "- Utilizzando modelli più complessi e accurati"
   ]
  },
  {
   "cell_type": "markdown",
   "metadata": {},
   "source": [
    "Definiamo una nostra funzione di preprocessing per avere più controllo su questa fase. Il processamento di un ingrediente viene fatto attraverso i seguenti passaggi:\n",
    "- tokenizzazione per dividere in singole parole gli ingredienti multiparola\n",
    "- casefolding\n",
    "- rimozione delle stopwords e delle parole non-alfabetiche per sfoltire l'insieme degli ingredienti\n",
    "- rimozione delle unità di misura\n",
    "- stemming/lemmatization dei token ottenuti con i passaggi precedenti in modo da estrarre solamente la parte rilveante degli stessi (la loro radice morfologica)"
   ]
  },
  {
   "cell_type": "code",
   "execution_count": 36,
   "metadata": {},
   "outputs": [],
   "source": [
    "units = ['oz', 'gram', 'g']"
   ]
  },
  {
   "cell_type": "code",
   "execution_count": 37,
   "metadata": {},
   "outputs": [],
   "source": [
    "def preprocess_stem(ingredients):\n",
    "    #tokenization\n",
    "    tokens = nltk.tokenize.word_tokenize(ingredients)\n",
    "    #token filtering\n",
    "    tokens_left = {token.lower() for token in tokens} #casefolding\n",
    "    for tok in set(tokens): #do not check duplicates\n",
    "        if tok in nltk.corpus.stopwords.words(\"english\") or not tok.isalpha() or tok in units: #non-alphabetic words and stopwords removal\n",
    "            tokens_left.remove(tok)\n",
    "    #stemming\n",
    "    ps = nltk.stem.PorterStemmer()\n",
    "    stemmed_tokens = {ps.stem(tok) for tok in tokens_left}\n",
    "    return stemmed_tokens"
   ]
  },
  {
   "cell_type": "code",
   "execution_count": 48,
   "metadata": {},
   "outputs": [],
   "source": [
    "def preprocess_lem(ingredients):\n",
    "    #tokenization\n",
    "    tokens = nltk.tokenize.word_tokenize(ingredients)\n",
    "    #token filtering\n",
    "    tokens_left = {token.lower() for token in tokens} #casefolding\n",
    "    for tok in set(tokens): #do not check duplicates\n",
    "        if tok in nltk.corpus.stopwords.words(\"english\") or not tok.isalpha() or tok in units: #non-alphabetic words and stopwords removal\n",
    "            tokens_left.remove(tok)\n",
    "    #lemmatization\n",
    "    ps = nltk.stem.WordNetLemmatizer()\n",
    "    lemmed_tokens = {ps.lemmatize(tok) for tok in tokens_left}\n",
    "    return lemmed_tokens"
   ]
  },
  {
   "cell_type": "markdown",
   "metadata": {},
   "source": [
    "Proviamo ora a testare questa funzione insieme a quella di default in una Grid Search in cui si utilizza come modello la Regressione Logistica. Mettiamo anche alcuni iperparametri della regressione nella Grid Search per ottenere il miglior modello possibile."
   ]
  },
  {
   "cell_type": "code",
   "execution_count": 45,
   "metadata": {},
   "outputs": [
    {
     "data": {
      "text/plain": [
       "0.781565847035752"
      ]
     },
     "execution_count": 45,
     "metadata": {},
     "output_type": "execute_result"
    }
   ],
   "source": [
    "grid2 = {\n",
    "    'model__C' : [1, 3, 5, 10],\n",
    "    'tokenizer__tokenizer' : [None, preprocess_stem],\n",
    "    'model__penalty': ['l2', 'l1']\n",
    "}\n",
    "logreg = Pipeline([\n",
    "    (\"tokenizer\", TfidfVectorizer()),\n",
    "    (\"model\",  LogisticRegression())\n",
    "])\n",
    "gs_logreg = GridSearchCV(logreg, param_grid=grid2)\n",
    "gs_logreg.fit(X_t, y_t)\n",
    "gs_logreg.score(X_v, y_v)"
   ]
  },
  {
   "cell_type": "code",
   "execution_count": 46,
   "metadata": {},
   "outputs": [
    {
     "data": {
      "text/html": [
       "<div>\n",
       "<style scoped>\n",
       "    .dataframe tbody tr th:only-of-type {\n",
       "        vertical-align: middle;\n",
       "    }\n",
       "\n",
       "    .dataframe tbody tr th {\n",
       "        vertical-align: top;\n",
       "    }\n",
       "\n",
       "    .dataframe thead th {\n",
       "        text-align: right;\n",
       "    }\n",
       "</style>\n",
       "<table border=\"1\" class=\"dataframe\">\n",
       "  <thead>\n",
       "    <tr style=\"text-align: right;\">\n",
       "      <th></th>\n",
       "      <th>mean_fit_time</th>\n",
       "      <th>std_fit_time</th>\n",
       "      <th>mean_score_time</th>\n",
       "      <th>std_score_time</th>\n",
       "      <th>param_model__C</th>\n",
       "      <th>param_model__penalty</th>\n",
       "      <th>param_tokenizer__tokenizer</th>\n",
       "      <th>params</th>\n",
       "      <th>split0_test_score</th>\n",
       "      <th>split1_test_score</th>\n",
       "      <th>split2_test_score</th>\n",
       "      <th>mean_test_score</th>\n",
       "      <th>std_test_score</th>\n",
       "      <th>rank_test_score</th>\n",
       "    </tr>\n",
       "  </thead>\n",
       "  <tbody>\n",
       "    <tr>\n",
       "      <th>9</th>\n",
       "      <td>88.617222</td>\n",
       "      <td>1.108361</td>\n",
       "      <td>41.147571</td>\n",
       "      <td>1.056031</td>\n",
       "      <td>5</td>\n",
       "      <td>l2</td>\n",
       "      <td>&lt;function preprocess_stem at 0x7f467f60d7b8&gt;</td>\n",
       "      <td>{'model__C': 5, 'model__penalty': 'l2', 'tokenizer__tokenizer': &lt;function preprocess_stem at 0x7f467f60d7b8&gt;}</td>\n",
       "      <td>0.778833</td>\n",
       "      <td>0.776131</td>\n",
       "      <td>0.779665</td>\n",
       "      <td>0.778209</td>\n",
       "      <td>0.001508</td>\n",
       "      <td>1</td>\n",
       "    </tr>\n",
       "    <tr>\n",
       "      <th>8</th>\n",
       "      <td>6.621362</td>\n",
       "      <td>0.051166</td>\n",
       "      <td>0.314648</td>\n",
       "      <td>0.007578</td>\n",
       "      <td>5</td>\n",
       "      <td>l2</td>\n",
       "      <td>None</td>\n",
       "      <td>{'model__C': 5, 'model__penalty': 'l2', 'tokenizer__tokenizer': None}</td>\n",
       "      <td>0.777815</td>\n",
       "      <td>0.778620</td>\n",
       "      <td>0.777966</td>\n",
       "      <td>0.778134</td>\n",
       "      <td>0.000349</td>\n",
       "      <td>2</td>\n",
       "    </tr>\n",
       "    <tr>\n",
       "      <th>13</th>\n",
       "      <td>85.284811</td>\n",
       "      <td>0.257523</td>\n",
       "      <td>39.878146</td>\n",
       "      <td>0.154185</td>\n",
       "      <td>10</td>\n",
       "      <td>l2</td>\n",
       "      <td>&lt;function preprocess_stem at 0x7f467f60d7b8&gt;</td>\n",
       "      <td>{'model__C': 10, 'model__penalty': 'l2', 'tokenizer__tokenizer': &lt;function preprocess_stem at 0x7f467f60d7b8&gt;}</td>\n",
       "      <td>0.776006</td>\n",
       "      <td>0.776357</td>\n",
       "      <td>0.778759</td>\n",
       "      <td>0.777040</td>\n",
       "      <td>0.001223</td>\n",
       "      <td>3</td>\n",
       "    </tr>\n",
       "    <tr>\n",
       "      <th>5</th>\n",
       "      <td>84.635115</td>\n",
       "      <td>0.937812</td>\n",
       "      <td>39.692339</td>\n",
       "      <td>0.108440</td>\n",
       "      <td>3</td>\n",
       "      <td>l2</td>\n",
       "      <td>&lt;function preprocess_stem at 0x7f467f60d7b8&gt;</td>\n",
       "      <td>{'model__C': 3, 'model__penalty': 'l2', 'tokenizer__tokenizer': &lt;function preprocess_stem at 0x7f467f60d7b8&gt;}</td>\n",
       "      <td>0.777702</td>\n",
       "      <td>0.775452</td>\n",
       "      <td>0.777853</td>\n",
       "      <td>0.777003</td>\n",
       "      <td>0.001098</td>\n",
       "      <td>4</td>\n",
       "    </tr>\n",
       "    <tr>\n",
       "      <th>4</th>\n",
       "      <td>6.170032</td>\n",
       "      <td>0.087541</td>\n",
       "      <td>0.304510</td>\n",
       "      <td>0.002384</td>\n",
       "      <td>3</td>\n",
       "      <td>l2</td>\n",
       "      <td>None</td>\n",
       "      <td>{'model__C': 3, 'model__penalty': 'l2', 'tokenizer__tokenizer': None}</td>\n",
       "      <td>0.775667</td>\n",
       "      <td>0.778507</td>\n",
       "      <td>0.776495</td>\n",
       "      <td>0.776889</td>\n",
       "      <td>0.001193</td>\n",
       "      <td>5</td>\n",
       "    </tr>\n",
       "  </tbody>\n",
       "</table>\n",
       "</div>"
      ],
      "text/plain": [
       "    mean_fit_time  std_fit_time  mean_score_time  std_score_time  \\\n",
       "9       88.617222      1.108361        41.147571        1.056031   \n",
       "8        6.621362      0.051166         0.314648        0.007578   \n",
       "13      85.284811      0.257523        39.878146        0.154185   \n",
       "5       84.635115      0.937812        39.692339        0.108440   \n",
       "4        6.170032      0.087541         0.304510        0.002384   \n",
       "\n",
       "   param_model__C param_model__penalty  \\\n",
       "9               5                   l2   \n",
       "8               5                   l2   \n",
       "13             10                   l2   \n",
       "5               3                   l2   \n",
       "4               3                   l2   \n",
       "\n",
       "                      param_tokenizer__tokenizer  \\\n",
       "9   <function preprocess_stem at 0x7f467f60d7b8>   \n",
       "8                                           None   \n",
       "13  <function preprocess_stem at 0x7f467f60d7b8>   \n",
       "5   <function preprocess_stem at 0x7f467f60d7b8>   \n",
       "4                                           None   \n",
       "\n",
       "                                                                                                            params  \\\n",
       "9    {'model__C': 5, 'model__penalty': 'l2', 'tokenizer__tokenizer': <function preprocess_stem at 0x7f467f60d7b8>}   \n",
       "8                                            {'model__C': 5, 'model__penalty': 'l2', 'tokenizer__tokenizer': None}   \n",
       "13  {'model__C': 10, 'model__penalty': 'l2', 'tokenizer__tokenizer': <function preprocess_stem at 0x7f467f60d7b8>}   \n",
       "5    {'model__C': 3, 'model__penalty': 'l2', 'tokenizer__tokenizer': <function preprocess_stem at 0x7f467f60d7b8>}   \n",
       "4                                            {'model__C': 3, 'model__penalty': 'l2', 'tokenizer__tokenizer': None}   \n",
       "\n",
       "    split0_test_score  split1_test_score  split2_test_score  mean_test_score  \\\n",
       "9            0.778833           0.776131           0.779665         0.778209   \n",
       "8            0.777815           0.778620           0.777966         0.778134   \n",
       "13           0.776006           0.776357           0.778759         0.777040   \n",
       "5            0.777702           0.775452           0.777853         0.777003   \n",
       "4            0.775667           0.778507           0.776495         0.776889   \n",
       "\n",
       "    std_test_score  rank_test_score  \n",
       "9         0.001508                1  \n",
       "8         0.000349                2  \n",
       "13        0.001223                3  \n",
       "5         0.001098                4  \n",
       "4         0.001193                5  "
      ]
     },
     "execution_count": 46,
     "metadata": {},
     "output_type": "execute_result"
    }
   ],
   "source": [
    "pd.DataFrame(gs_logreg.cv_results_).sort_values(\"rank_test_score\").head(5)"
   ]
  },
  {
   "cell_type": "markdown",
   "metadata": {},
   "source": [
    "Notiamo dai risultati:\n",
    " - il risultato migliore ha scelto C=5, regolarizzazione l2 e come funzione di tokenizzazione del TfidfVectorizer la funzione che abbiamo definito che applica la stemmatizzazione ai token."
   ]
  },
  {
   "cell_type": "markdown",
   "metadata": {},
   "source": [
    "Nonostante il preprocessing potrebbe non essere ottimale, il modello è più accurato quindi possiamo cercare di capire che cosa ha imparato controllando i parametri.\n",
    "Possiamo creare un DataFrame che associ a ogni cucina per tutte le parole del dizionario individuate dal Vectorizer il corrispondente peso."
   ]
  },
  {
   "cell_type": "code",
   "execution_count": 47,
   "metadata": {},
   "outputs": [
    {
     "data": {
      "text/html": [
       "<div>\n",
       "<style scoped>\n",
       "    .dataframe tbody tr th:only-of-type {\n",
       "        vertical-align: middle;\n",
       "    }\n",
       "\n",
       "    .dataframe tbody tr th {\n",
       "        vertical-align: top;\n",
       "    }\n",
       "\n",
       "    .dataframe thead th {\n",
       "        text-align: right;\n",
       "    }\n",
       "</style>\n",
       "<table border=\"1\" class=\"dataframe\">\n",
       "  <thead>\n",
       "    <tr style=\"text-align: right;\">\n",
       "      <th></th>\n",
       "      <th>abalon</th>\n",
       "      <th>abbamel</th>\n",
       "      <th>absinth</th>\n",
       "      <th>abura</th>\n",
       "      <th>acai</th>\n",
       "      <th>accent</th>\n",
       "      <th>accompani</th>\n",
       "      <th>achiot</th>\n",
       "      <th>acid</th>\n",
       "      <th>acini</th>\n",
       "      <th>...</th>\n",
       "      <th>yuzu</th>\n",
       "      <th>yuzukosho</th>\n",
       "      <th>zatarain</th>\n",
       "      <th>zero</th>\n",
       "      <th>zest</th>\n",
       "      <th>zesti</th>\n",
       "      <th>zinfandel</th>\n",
       "      <th>ziti</th>\n",
       "      <th>zucchini</th>\n",
       "      <th>épice</th>\n",
       "    </tr>\n",
       "  </thead>\n",
       "  <tbody>\n",
       "    <tr>\n",
       "      <th>brazilian</th>\n",
       "      <td>-0.000942</td>\n",
       "      <td>-0.001210</td>\n",
       "      <td>-0.009759</td>\n",
       "      <td>-0.011424</td>\n",
       "      <td>2.436897</td>\n",
       "      <td>-0.014088</td>\n",
       "      <td>-0.009913</td>\n",
       "      <td>-0.203360</td>\n",
       "      <td>-0.040544</td>\n",
       "      <td>-0.012994</td>\n",
       "      <td>...</td>\n",
       "      <td>-0.015912</td>\n",
       "      <td>-0.003935</td>\n",
       "      <td>-0.013908</td>\n",
       "      <td>-0.003277</td>\n",
       "      <td>0.106934</td>\n",
       "      <td>-0.084983</td>\n",
       "      <td>-0.125962</td>\n",
       "      <td>-0.307271</td>\n",
       "      <td>-1.216115</td>\n",
       "      <td>-0.005798</td>\n",
       "    </tr>\n",
       "    <tr>\n",
       "      <th>british</th>\n",
       "      <td>-0.001528</td>\n",
       "      <td>-0.006909</td>\n",
       "      <td>-0.096445</td>\n",
       "      <td>-0.020862</td>\n",
       "      <td>-0.087678</td>\n",
       "      <td>-0.043841</td>\n",
       "      <td>-0.031755</td>\n",
       "      <td>-0.061650</td>\n",
       "      <td>-0.094077</td>\n",
       "      <td>-0.016194</td>\n",
       "      <td>...</td>\n",
       "      <td>-0.045985</td>\n",
       "      <td>-0.020290</td>\n",
       "      <td>-0.004088</td>\n",
       "      <td>-0.004797</td>\n",
       "      <td>-1.078955</td>\n",
       "      <td>-0.074964</td>\n",
       "      <td>-0.225140</td>\n",
       "      <td>-0.092753</td>\n",
       "      <td>-0.057996</td>\n",
       "      <td>-0.287724</td>\n",
       "    </tr>\n",
       "    <tr>\n",
       "      <th>cajun_creole</th>\n",
       "      <td>-0.001093</td>\n",
       "      <td>-0.001848</td>\n",
       "      <td>1.565242</td>\n",
       "      <td>-0.010021</td>\n",
       "      <td>-0.021151</td>\n",
       "      <td>-0.096582</td>\n",
       "      <td>-0.009837</td>\n",
       "      <td>-0.211772</td>\n",
       "      <td>-0.068596</td>\n",
       "      <td>-0.023815</td>\n",
       "      <td>...</td>\n",
       "      <td>-0.053733</td>\n",
       "      <td>-0.004739</td>\n",
       "      <td>1.604728</td>\n",
       "      <td>-0.008972</td>\n",
       "      <td>-0.860217</td>\n",
       "      <td>0.438270</td>\n",
       "      <td>-0.183090</td>\n",
       "      <td>-0.159428</td>\n",
       "      <td>-0.807232</td>\n",
       "      <td>-0.043333</td>\n",
       "    </tr>\n",
       "    <tr>\n",
       "      <th>chinese</th>\n",
       "      <td>0.368504</td>\n",
       "      <td>-0.121046</td>\n",
       "      <td>-0.014554</td>\n",
       "      <td>-0.018410</td>\n",
       "      <td>-0.024354</td>\n",
       "      <td>-0.802722</td>\n",
       "      <td>-0.005145</td>\n",
       "      <td>-0.419570</td>\n",
       "      <td>1.401374</td>\n",
       "      <td>-0.017402</td>\n",
       "      <td>...</td>\n",
       "      <td>-0.273825</td>\n",
       "      <td>-0.008348</td>\n",
       "      <td>-0.030527</td>\n",
       "      <td>-0.020503</td>\n",
       "      <td>-0.183307</td>\n",
       "      <td>-0.060561</td>\n",
       "      <td>-0.186057</td>\n",
       "      <td>-0.088008</td>\n",
       "      <td>-1.570272</td>\n",
       "      <td>-0.030110</td>\n",
       "    </tr>\n",
       "    <tr>\n",
       "      <th>filipino</th>\n",
       "      <td>-0.047342</td>\n",
       "      <td>-0.000491</td>\n",
       "      <td>-0.016319</td>\n",
       "      <td>-0.012881</td>\n",
       "      <td>-0.092582</td>\n",
       "      <td>2.257966</td>\n",
       "      <td>-0.006950</td>\n",
       "      <td>2.763352</td>\n",
       "      <td>-0.062899</td>\n",
       "      <td>-0.012436</td>\n",
       "      <td>...</td>\n",
       "      <td>-0.096755</td>\n",
       "      <td>-0.004304</td>\n",
       "      <td>-0.021975</td>\n",
       "      <td>-0.147192</td>\n",
       "      <td>-0.882718</td>\n",
       "      <td>-0.025803</td>\n",
       "      <td>-0.039005</td>\n",
       "      <td>-0.229888</td>\n",
       "      <td>-0.406681</td>\n",
       "      <td>-0.021078</td>\n",
       "    </tr>\n",
       "    <tr>\n",
       "      <th>french</th>\n",
       "      <td>-0.014720</td>\n",
       "      <td>-0.621576</td>\n",
       "      <td>-0.030839</td>\n",
       "      <td>-0.019978</td>\n",
       "      <td>-0.163321</td>\n",
       "      <td>-0.047125</td>\n",
       "      <td>0.670437</td>\n",
       "      <td>-0.244484</td>\n",
       "      <td>-0.231277</td>\n",
       "      <td>-0.296671</td>\n",
       "      <td>...</td>\n",
       "      <td>-0.162359</td>\n",
       "      <td>-0.030418</td>\n",
       "      <td>-0.060439</td>\n",
       "      <td>-0.006795</td>\n",
       "      <td>0.286841</td>\n",
       "      <td>-0.422073</td>\n",
       "      <td>2.225124</td>\n",
       "      <td>-1.611601</td>\n",
       "      <td>3.466034</td>\n",
       "      <td>1.159993</td>\n",
       "    </tr>\n",
       "    <tr>\n",
       "      <th>greek</th>\n",
       "      <td>-0.001278</td>\n",
       "      <td>-0.043697</td>\n",
       "      <td>-0.004508</td>\n",
       "      <td>-0.023859</td>\n",
       "      <td>-0.021819</td>\n",
       "      <td>-0.085600</td>\n",
       "      <td>-0.011238</td>\n",
       "      <td>-0.358332</td>\n",
       "      <td>-0.161874</td>\n",
       "      <td>-0.317813</td>\n",
       "      <td>...</td>\n",
       "      <td>-0.081123</td>\n",
       "      <td>-0.006238</td>\n",
       "      <td>-0.025361</td>\n",
       "      <td>-0.000558</td>\n",
       "      <td>0.727641</td>\n",
       "      <td>1.264454</td>\n",
       "      <td>1.176622</td>\n",
       "      <td>1.124676</td>\n",
       "      <td>1.220055</td>\n",
       "      <td>-0.021689</td>\n",
       "    </tr>\n",
       "    <tr>\n",
       "      <th>indian</th>\n",
       "      <td>-0.001630</td>\n",
       "      <td>-0.014398</td>\n",
       "      <td>-0.017813</td>\n",
       "      <td>-0.009860</td>\n",
       "      <td>-0.020493</td>\n",
       "      <td>-0.016028</td>\n",
       "      <td>-0.124454</td>\n",
       "      <td>-0.144164</td>\n",
       "      <td>-0.151868</td>\n",
       "      <td>-0.021239</td>\n",
       "      <td>...</td>\n",
       "      <td>-0.084762</td>\n",
       "      <td>-0.005375</td>\n",
       "      <td>-0.048872</td>\n",
       "      <td>-0.102041</td>\n",
       "      <td>0.101865</td>\n",
       "      <td>-0.052396</td>\n",
       "      <td>-0.066238</td>\n",
       "      <td>-0.068273</td>\n",
       "      <td>-0.155294</td>\n",
       "      <td>-0.260365</td>\n",
       "    </tr>\n",
       "    <tr>\n",
       "      <th>irish</th>\n",
       "      <td>-0.005507</td>\n",
       "      <td>-0.013098</td>\n",
       "      <td>-0.033546</td>\n",
       "      <td>-0.029502</td>\n",
       "      <td>-0.049987</td>\n",
       "      <td>-0.022928</td>\n",
       "      <td>-0.010420</td>\n",
       "      <td>-0.058145</td>\n",
       "      <td>-0.070234</td>\n",
       "      <td>-0.047766</td>\n",
       "      <td>...</td>\n",
       "      <td>-0.065601</td>\n",
       "      <td>-0.010863</td>\n",
       "      <td>-0.004199</td>\n",
       "      <td>-0.002696</td>\n",
       "      <td>1.553857</td>\n",
       "      <td>-0.310045</td>\n",
       "      <td>-0.368482</td>\n",
       "      <td>-0.154351</td>\n",
       "      <td>0.062566</td>\n",
       "      <td>-0.216973</td>\n",
       "    </tr>\n",
       "    <tr>\n",
       "      <th>italian</th>\n",
       "      <td>-0.017395</td>\n",
       "      <td>0.722756</td>\n",
       "      <td>-0.087273</td>\n",
       "      <td>-0.024810</td>\n",
       "      <td>-0.363527</td>\n",
       "      <td>0.594902</td>\n",
       "      <td>-0.029827</td>\n",
       "      <td>-0.412665</td>\n",
       "      <td>2.514430</td>\n",
       "      <td>1.563047</td>\n",
       "      <td>...</td>\n",
       "      <td>-0.325649</td>\n",
       "      <td>-0.100359</td>\n",
       "      <td>-0.098308</td>\n",
       "      <td>-0.025317</td>\n",
       "      <td>2.047607</td>\n",
       "      <td>-1.282998</td>\n",
       "      <td>-2.582836</td>\n",
       "      <td>2.227206</td>\n",
       "      <td>-0.662756</td>\n",
       "      <td>-0.344595</td>\n",
       "    </tr>\n",
       "    <tr>\n",
       "      <th>jamaican</th>\n",
       "      <td>-0.003309</td>\n",
       "      <td>-0.000707</td>\n",
       "      <td>-0.015805</td>\n",
       "      <td>-0.008686</td>\n",
       "      <td>-0.049856</td>\n",
       "      <td>-0.028721</td>\n",
       "      <td>-0.004277</td>\n",
       "      <td>-0.324920</td>\n",
       "      <td>-0.028853</td>\n",
       "      <td>-0.009742</td>\n",
       "      <td>...</td>\n",
       "      <td>-0.025907</td>\n",
       "      <td>-0.003863</td>\n",
       "      <td>-0.002985</td>\n",
       "      <td>-0.015588</td>\n",
       "      <td>-1.107632</td>\n",
       "      <td>-0.016922</td>\n",
       "      <td>-0.044835</td>\n",
       "      <td>-0.048542</td>\n",
       "      <td>0.870724</td>\n",
       "      <td>-0.026179</td>\n",
       "    </tr>\n",
       "    <tr>\n",
       "      <th>japanese</th>\n",
       "      <td>-0.046870</td>\n",
       "      <td>-0.009810</td>\n",
       "      <td>-0.035359</td>\n",
       "      <td>0.093314</td>\n",
       "      <td>-0.052600</td>\n",
       "      <td>-0.315509</td>\n",
       "      <td>-0.023539</td>\n",
       "      <td>-0.208551</td>\n",
       "      <td>-0.409618</td>\n",
       "      <td>-0.030357</td>\n",
       "      <td>...</td>\n",
       "      <td>3.922533</td>\n",
       "      <td>0.042425</td>\n",
       "      <td>-0.030730</td>\n",
       "      <td>-0.040876</td>\n",
       "      <td>-1.060349</td>\n",
       "      <td>-0.110838</td>\n",
       "      <td>-0.122325</td>\n",
       "      <td>-0.183283</td>\n",
       "      <td>-0.600339</td>\n",
       "      <td>-0.020256</td>\n",
       "    </tr>\n",
       "    <tr>\n",
       "      <th>korean</th>\n",
       "      <td>-0.157294</td>\n",
       "      <td>-0.003289</td>\n",
       "      <td>-0.016601</td>\n",
       "      <td>-0.062155</td>\n",
       "      <td>-0.010869</td>\n",
       "      <td>-0.084763</td>\n",
       "      <td>-0.002227</td>\n",
       "      <td>-0.103937</td>\n",
       "      <td>-0.090945</td>\n",
       "      <td>-0.013344</td>\n",
       "      <td>...</td>\n",
       "      <td>-0.256409</td>\n",
       "      <td>-0.051712</td>\n",
       "      <td>-0.000857</td>\n",
       "      <td>-0.032724</td>\n",
       "      <td>-1.016445</td>\n",
       "      <td>-0.031561</td>\n",
       "      <td>-0.036805</td>\n",
       "      <td>-0.066407</td>\n",
       "      <td>3.480015</td>\n",
       "      <td>-0.096576</td>\n",
       "    </tr>\n",
       "    <tr>\n",
       "      <th>mexican</th>\n",
       "      <td>-0.001154</td>\n",
       "      <td>-0.051723</td>\n",
       "      <td>-0.052498</td>\n",
       "      <td>-0.066736</td>\n",
       "      <td>-0.474548</td>\n",
       "      <td>-0.051719</td>\n",
       "      <td>-0.091613</td>\n",
       "      <td>4.692889</td>\n",
       "      <td>-0.516993</td>\n",
       "      <td>-0.062899</td>\n",
       "      <td>...</td>\n",
       "      <td>-0.354939</td>\n",
       "      <td>-0.019132</td>\n",
       "      <td>-0.164104</td>\n",
       "      <td>0.434298</td>\n",
       "      <td>-0.532992</td>\n",
       "      <td>0.519861</td>\n",
       "      <td>-0.271670</td>\n",
       "      <td>-0.724298</td>\n",
       "      <td>-0.573495</td>\n",
       "      <td>-0.040056</td>\n",
       "    </tr>\n",
       "    <tr>\n",
       "      <th>moroccan</th>\n",
       "      <td>-0.004193</td>\n",
       "      <td>-0.014688</td>\n",
       "      <td>-0.002278</td>\n",
       "      <td>-0.012966</td>\n",
       "      <td>-0.010659</td>\n",
       "      <td>-0.006756</td>\n",
       "      <td>-0.018058</td>\n",
       "      <td>-0.147841</td>\n",
       "      <td>-0.022087</td>\n",
       "      <td>-0.008122</td>\n",
       "      <td>...</td>\n",
       "      <td>-0.020588</td>\n",
       "      <td>-0.006461</td>\n",
       "      <td>-0.002185</td>\n",
       "      <td>-0.011842</td>\n",
       "      <td>-0.828036</td>\n",
       "      <td>-0.051950</td>\n",
       "      <td>-0.283776</td>\n",
       "      <td>-0.117721</td>\n",
       "      <td>1.359748</td>\n",
       "      <td>-0.026054</td>\n",
       "    </tr>\n",
       "    <tr>\n",
       "      <th>russian</th>\n",
       "      <td>-0.000840</td>\n",
       "      <td>-0.019474</td>\n",
       "      <td>-0.022872</td>\n",
       "      <td>-0.016048</td>\n",
       "      <td>-0.017990</td>\n",
       "      <td>-0.036893</td>\n",
       "      <td>-0.020534</td>\n",
       "      <td>-0.051517</td>\n",
       "      <td>-0.103293</td>\n",
       "      <td>-0.013589</td>\n",
       "      <td>...</td>\n",
       "      <td>-0.042190</td>\n",
       "      <td>-0.007945</td>\n",
       "      <td>-0.005497</td>\n",
       "      <td>-0.002935</td>\n",
       "      <td>-0.874803</td>\n",
       "      <td>-0.070535</td>\n",
       "      <td>-0.169497</td>\n",
       "      <td>-0.146923</td>\n",
       "      <td>0.599611</td>\n",
       "      <td>-0.057092</td>\n",
       "    </tr>\n",
       "    <tr>\n",
       "      <th>southern_us</th>\n",
       "      <td>-0.002247</td>\n",
       "      <td>-0.025341</td>\n",
       "      <td>-0.959993</td>\n",
       "      <td>-0.013564</td>\n",
       "      <td>-0.247652</td>\n",
       "      <td>-0.046296</td>\n",
       "      <td>-0.295353</td>\n",
       "      <td>-0.863260</td>\n",
       "      <td>-0.233745</td>\n",
       "      <td>-0.111127</td>\n",
       "      <td>...</td>\n",
       "      <td>-0.157658</td>\n",
       "      <td>-0.030981</td>\n",
       "      <td>-0.233854</td>\n",
       "      <td>-0.100313</td>\n",
       "      <td>0.813562</td>\n",
       "      <td>-0.203836</td>\n",
       "      <td>-0.935330</td>\n",
       "      <td>-0.311676</td>\n",
       "      <td>-1.197096</td>\n",
       "      <td>1.194917</td>\n",
       "    </tr>\n",
       "    <tr>\n",
       "      <th>spanish</th>\n",
       "      <td>-0.000715</td>\n",
       "      <td>-0.015762</td>\n",
       "      <td>-0.013428</td>\n",
       "      <td>-0.024272</td>\n",
       "      <td>-0.101609</td>\n",
       "      <td>-0.012514</td>\n",
       "      <td>-0.086097</td>\n",
       "      <td>-0.156512</td>\n",
       "      <td>-0.096258</td>\n",
       "      <td>-0.024704</td>\n",
       "      <td>...</td>\n",
       "      <td>-0.057768</td>\n",
       "      <td>-0.005150</td>\n",
       "      <td>-0.061437</td>\n",
       "      <td>-0.027445</td>\n",
       "      <td>0.005151</td>\n",
       "      <td>-0.126684</td>\n",
       "      <td>1.423174</td>\n",
       "      <td>-0.309341</td>\n",
       "      <td>-0.029376</td>\n",
       "      <td>-0.014572</td>\n",
       "    </tr>\n",
       "    <tr>\n",
       "      <th>thai</th>\n",
       "      <td>-0.011448</td>\n",
       "      <td>-0.006640</td>\n",
       "      <td>-0.020141</td>\n",
       "      <td>-0.018976</td>\n",
       "      <td>-0.045752</td>\n",
       "      <td>-0.157703</td>\n",
       "      <td>-0.004157</td>\n",
       "      <td>-0.371399</td>\n",
       "      <td>-0.050966</td>\n",
       "      <td>-0.012842</td>\n",
       "      <td>...</td>\n",
       "      <td>-0.212893</td>\n",
       "      <td>-0.024695</td>\n",
       "      <td>-0.003446</td>\n",
       "      <td>-0.010598</td>\n",
       "      <td>0.777855</td>\n",
       "      <td>-0.066284</td>\n",
       "      <td>-0.030055</td>\n",
       "      <td>-0.075213</td>\n",
       "      <td>0.184795</td>\n",
       "      <td>-0.015539</td>\n",
       "    </tr>\n",
       "    <tr>\n",
       "      <th>vietnamese</th>\n",
       "      <td>-0.052499</td>\n",
       "      <td>-0.001995</td>\n",
       "      <td>-0.010618</td>\n",
       "      <td>-0.017843</td>\n",
       "      <td>-0.015908</td>\n",
       "      <td>-0.169667</td>\n",
       "      <td>-0.013116</td>\n",
       "      <td>-0.208478</td>\n",
       "      <td>-0.073352</td>\n",
       "      <td>-0.004747</td>\n",
       "      <td>...</td>\n",
       "      <td>-0.066812</td>\n",
       "      <td>-0.016411</td>\n",
       "      <td>-0.005876</td>\n",
       "      <td>-0.072692</td>\n",
       "      <td>-0.704521</td>\n",
       "      <td>-0.051681</td>\n",
       "      <td>-0.060955</td>\n",
       "      <td>-0.054448</td>\n",
       "      <td>-1.832392</td>\n",
       "      <td>-0.007459</td>\n",
       "    </tr>\n",
       "  </tbody>\n",
       "</table>\n",
       "<p>20 rows × 2369 columns</p>\n",
       "</div>"
      ],
      "text/plain": [
       "                abalon   abbamel   absinth     abura      acai    accent  \\\n",
       "brazilian    -0.000942 -0.001210 -0.009759 -0.011424  2.436897 -0.014088   \n",
       "british      -0.001528 -0.006909 -0.096445 -0.020862 -0.087678 -0.043841   \n",
       "cajun_creole -0.001093 -0.001848  1.565242 -0.010021 -0.021151 -0.096582   \n",
       "chinese       0.368504 -0.121046 -0.014554 -0.018410 -0.024354 -0.802722   \n",
       "filipino     -0.047342 -0.000491 -0.016319 -0.012881 -0.092582  2.257966   \n",
       "french       -0.014720 -0.621576 -0.030839 -0.019978 -0.163321 -0.047125   \n",
       "greek        -0.001278 -0.043697 -0.004508 -0.023859 -0.021819 -0.085600   \n",
       "indian       -0.001630 -0.014398 -0.017813 -0.009860 -0.020493 -0.016028   \n",
       "irish        -0.005507 -0.013098 -0.033546 -0.029502 -0.049987 -0.022928   \n",
       "italian      -0.017395  0.722756 -0.087273 -0.024810 -0.363527  0.594902   \n",
       "jamaican     -0.003309 -0.000707 -0.015805 -0.008686 -0.049856 -0.028721   \n",
       "japanese     -0.046870 -0.009810 -0.035359  0.093314 -0.052600 -0.315509   \n",
       "korean       -0.157294 -0.003289 -0.016601 -0.062155 -0.010869 -0.084763   \n",
       "mexican      -0.001154 -0.051723 -0.052498 -0.066736 -0.474548 -0.051719   \n",
       "moroccan     -0.004193 -0.014688 -0.002278 -0.012966 -0.010659 -0.006756   \n",
       "russian      -0.000840 -0.019474 -0.022872 -0.016048 -0.017990 -0.036893   \n",
       "southern_us  -0.002247 -0.025341 -0.959993 -0.013564 -0.247652 -0.046296   \n",
       "spanish      -0.000715 -0.015762 -0.013428 -0.024272 -0.101609 -0.012514   \n",
       "thai         -0.011448 -0.006640 -0.020141 -0.018976 -0.045752 -0.157703   \n",
       "vietnamese   -0.052499 -0.001995 -0.010618 -0.017843 -0.015908 -0.169667   \n",
       "\n",
       "              accompani    achiot      acid     acini  ...      yuzu  \\\n",
       "brazilian     -0.009913 -0.203360 -0.040544 -0.012994  ... -0.015912   \n",
       "british       -0.031755 -0.061650 -0.094077 -0.016194  ... -0.045985   \n",
       "cajun_creole  -0.009837 -0.211772 -0.068596 -0.023815  ... -0.053733   \n",
       "chinese       -0.005145 -0.419570  1.401374 -0.017402  ... -0.273825   \n",
       "filipino      -0.006950  2.763352 -0.062899 -0.012436  ... -0.096755   \n",
       "french         0.670437 -0.244484 -0.231277 -0.296671  ... -0.162359   \n",
       "greek         -0.011238 -0.358332 -0.161874 -0.317813  ... -0.081123   \n",
       "indian        -0.124454 -0.144164 -0.151868 -0.021239  ... -0.084762   \n",
       "irish         -0.010420 -0.058145 -0.070234 -0.047766  ... -0.065601   \n",
       "italian       -0.029827 -0.412665  2.514430  1.563047  ... -0.325649   \n",
       "jamaican      -0.004277 -0.324920 -0.028853 -0.009742  ... -0.025907   \n",
       "japanese      -0.023539 -0.208551 -0.409618 -0.030357  ...  3.922533   \n",
       "korean        -0.002227 -0.103937 -0.090945 -0.013344  ... -0.256409   \n",
       "mexican       -0.091613  4.692889 -0.516993 -0.062899  ... -0.354939   \n",
       "moroccan      -0.018058 -0.147841 -0.022087 -0.008122  ... -0.020588   \n",
       "russian       -0.020534 -0.051517 -0.103293 -0.013589  ... -0.042190   \n",
       "southern_us   -0.295353 -0.863260 -0.233745 -0.111127  ... -0.157658   \n",
       "spanish       -0.086097 -0.156512 -0.096258 -0.024704  ... -0.057768   \n",
       "thai          -0.004157 -0.371399 -0.050966 -0.012842  ... -0.212893   \n",
       "vietnamese    -0.013116 -0.208478 -0.073352 -0.004747  ... -0.066812   \n",
       "\n",
       "              yuzukosho  zatarain      zero      zest     zesti  zinfandel  \\\n",
       "brazilian     -0.003935 -0.013908 -0.003277  0.106934 -0.084983  -0.125962   \n",
       "british       -0.020290 -0.004088 -0.004797 -1.078955 -0.074964  -0.225140   \n",
       "cajun_creole  -0.004739  1.604728 -0.008972 -0.860217  0.438270  -0.183090   \n",
       "chinese       -0.008348 -0.030527 -0.020503 -0.183307 -0.060561  -0.186057   \n",
       "filipino      -0.004304 -0.021975 -0.147192 -0.882718 -0.025803  -0.039005   \n",
       "french        -0.030418 -0.060439 -0.006795  0.286841 -0.422073   2.225124   \n",
       "greek         -0.006238 -0.025361 -0.000558  0.727641  1.264454   1.176622   \n",
       "indian        -0.005375 -0.048872 -0.102041  0.101865 -0.052396  -0.066238   \n",
       "irish         -0.010863 -0.004199 -0.002696  1.553857 -0.310045  -0.368482   \n",
       "italian       -0.100359 -0.098308 -0.025317  2.047607 -1.282998  -2.582836   \n",
       "jamaican      -0.003863 -0.002985 -0.015588 -1.107632 -0.016922  -0.044835   \n",
       "japanese       0.042425 -0.030730 -0.040876 -1.060349 -0.110838  -0.122325   \n",
       "korean        -0.051712 -0.000857 -0.032724 -1.016445 -0.031561  -0.036805   \n",
       "mexican       -0.019132 -0.164104  0.434298 -0.532992  0.519861  -0.271670   \n",
       "moroccan      -0.006461 -0.002185 -0.011842 -0.828036 -0.051950  -0.283776   \n",
       "russian       -0.007945 -0.005497 -0.002935 -0.874803 -0.070535  -0.169497   \n",
       "southern_us   -0.030981 -0.233854 -0.100313  0.813562 -0.203836  -0.935330   \n",
       "spanish       -0.005150 -0.061437 -0.027445  0.005151 -0.126684   1.423174   \n",
       "thai          -0.024695 -0.003446 -0.010598  0.777855 -0.066284  -0.030055   \n",
       "vietnamese    -0.016411 -0.005876 -0.072692 -0.704521 -0.051681  -0.060955   \n",
       "\n",
       "                  ziti  zucchini     épice  \n",
       "brazilian    -0.307271 -1.216115 -0.005798  \n",
       "british      -0.092753 -0.057996 -0.287724  \n",
       "cajun_creole -0.159428 -0.807232 -0.043333  \n",
       "chinese      -0.088008 -1.570272 -0.030110  \n",
       "filipino     -0.229888 -0.406681 -0.021078  \n",
       "french       -1.611601  3.466034  1.159993  \n",
       "greek         1.124676  1.220055 -0.021689  \n",
       "indian       -0.068273 -0.155294 -0.260365  \n",
       "irish        -0.154351  0.062566 -0.216973  \n",
       "italian       2.227206 -0.662756 -0.344595  \n",
       "jamaican     -0.048542  0.870724 -0.026179  \n",
       "japanese     -0.183283 -0.600339 -0.020256  \n",
       "korean       -0.066407  3.480015 -0.096576  \n",
       "mexican      -0.724298 -0.573495 -0.040056  \n",
       "moroccan     -0.117721  1.359748 -0.026054  \n",
       "russian      -0.146923  0.599611 -0.057092  \n",
       "southern_us  -0.311676 -1.197096  1.194917  \n",
       "spanish      -0.309341 -0.029376 -0.014572  \n",
       "thai         -0.075213  0.184795 -0.015539  \n",
       "vietnamese   -0.054448 -1.832392 -0.007459  \n",
       "\n",
       "[20 rows x 2369 columns]"
      ]
     },
     "execution_count": 47,
     "metadata": {},
     "output_type": "execute_result"
    }
   ],
   "source": [
    "model_logreg = gs_logreg.best_estimator_\n",
    "coeffs = pd.DataFrame(model_logreg.named_steps[\"model\"].coef_, index=model_logreg.classes_, columns=model_logreg.named_steps[\"tokenizer\"].get_feature_names())\n",
    "coeffs"
   ]
  },
  {
   "cell_type": "markdown",
   "metadata": {},
   "source": [
    "In questo modo selezionando una cucina e un ingrediente si può vedere il peso assegnato all'interno di una eventuale query."
   ]
  },
  {
   "cell_type": "code",
   "execution_count": 49,
   "metadata": {},
   "outputs": [
    {
     "data": {
      "text/plain": [
       "4.959473103851227"
      ]
     },
     "execution_count": 49,
     "metadata": {},
     "output_type": "execute_result"
    }
   ],
   "source": [
    "coeffs.loc[\"italian\", \"mozzarella\"]"
   ]
  },
  {
   "cell_type": "code",
   "execution_count": 50,
   "metadata": {},
   "outputs": [
    {
     "data": {
      "text/plain": [
       "3.547021529703393"
      ]
     },
     "execution_count": 50,
     "metadata": {},
     "output_type": "execute_result"
    }
   ],
   "source": [
    "coeffs.loc[\"mexican\", \"corn\"]"
   ]
  },
  {
   "cell_type": "markdown",
   "metadata": {},
   "source": [
    "Possiamo inoltre studiare quali siano gli ingredienti più caratteristici di ogni cucina secondo questi pesi."
   ]
  },
  {
   "cell_type": "code",
   "execution_count": 51,
   "metadata": {},
   "outputs": [
    {
     "data": {
      "text/html": [
       "<div>\n",
       "<style scoped>\n",
       "    .dataframe tbody tr th:only-of-type {\n",
       "        vertical-align: middle;\n",
       "    }\n",
       "\n",
       "    .dataframe tbody tr th {\n",
       "        vertical-align: top;\n",
       "    }\n",
       "\n",
       "    .dataframe thead th {\n",
       "        text-align: right;\n",
       "    }\n",
       "</style>\n",
       "<table border=\"1\" class=\"dataframe\">\n",
       "  <thead>\n",
       "    <tr style=\"text-align: right;\">\n",
       "      <th></th>\n",
       "      <th>best_ingredient</th>\n",
       "      <th>score</th>\n",
       "    </tr>\n",
       "    <tr>\n",
       "      <th>cuisine</th>\n",
       "      <th></th>\n",
       "      <th></th>\n",
       "    </tr>\n",
       "  </thead>\n",
       "  <tbody>\n",
       "    <tr>\n",
       "      <th>greek</th>\n",
       "      <td>feta</td>\n",
       "      <td>11.451000</td>\n",
       "    </tr>\n",
       "    <tr>\n",
       "      <th>southern_us</th>\n",
       "      <td>grit</td>\n",
       "      <td>11.569390</td>\n",
       "    </tr>\n",
       "    <tr>\n",
       "      <th>filipino</th>\n",
       "      <td>calamansi</td>\n",
       "      <td>6.339107</td>\n",
       "    </tr>\n",
       "    <tr>\n",
       "      <th>indian</th>\n",
       "      <td>curri</td>\n",
       "      <td>10.051293</td>\n",
       "    </tr>\n",
       "    <tr>\n",
       "      <th>jamaican</th>\n",
       "      <td>jerk</td>\n",
       "      <td>11.702598</td>\n",
       "    </tr>\n",
       "    <tr>\n",
       "      <th>spanish</th>\n",
       "      <td>manchego</td>\n",
       "      <td>7.930206</td>\n",
       "    </tr>\n",
       "    <tr>\n",
       "      <th>italian</th>\n",
       "      <td>arborio</td>\n",
       "      <td>9.904959</td>\n",
       "    </tr>\n",
       "    <tr>\n",
       "      <th>mexican</th>\n",
       "      <td>tortilla</td>\n",
       "      <td>14.696732</td>\n",
       "    </tr>\n",
       "    <tr>\n",
       "      <th>chinese</th>\n",
       "      <td>chines</td>\n",
       "      <td>8.244614</td>\n",
       "    </tr>\n",
       "    <tr>\n",
       "      <th>british</th>\n",
       "      <td>stilton</td>\n",
       "      <td>9.993082</td>\n",
       "    </tr>\n",
       "    <tr>\n",
       "      <th>thai</th>\n",
       "      <td>galang</td>\n",
       "      <td>6.081898</td>\n",
       "    </tr>\n",
       "    <tr>\n",
       "      <th>vietnamese</th>\n",
       "      <td>fish</td>\n",
       "      <td>7.777916</td>\n",
       "    </tr>\n",
       "    <tr>\n",
       "      <th>cajun_creole</th>\n",
       "      <td>cajun</td>\n",
       "      <td>9.591309</td>\n",
       "    </tr>\n",
       "    <tr>\n",
       "      <th>brazilian</th>\n",
       "      <td>cachaca</td>\n",
       "      <td>12.317975</td>\n",
       "    </tr>\n",
       "    <tr>\n",
       "      <th>french</th>\n",
       "      <td>gruyer</td>\n",
       "      <td>6.577659</td>\n",
       "    </tr>\n",
       "    <tr>\n",
       "      <th>japanese</th>\n",
       "      <td>miso</td>\n",
       "      <td>9.054339</td>\n",
       "    </tr>\n",
       "    <tr>\n",
       "      <th>irish</th>\n",
       "      <td>irish</td>\n",
       "      <td>10.526735</td>\n",
       "    </tr>\n",
       "    <tr>\n",
       "      <th>korean</th>\n",
       "      <td>kimchi</td>\n",
       "      <td>12.224630</td>\n",
       "    </tr>\n",
       "    <tr>\n",
       "      <th>moroccan</th>\n",
       "      <td>couscou</td>\n",
       "      <td>8.464747</td>\n",
       "    </tr>\n",
       "    <tr>\n",
       "      <th>russian</th>\n",
       "      <td>beet</td>\n",
       "      <td>7.149083</td>\n",
       "    </tr>\n",
       "  </tbody>\n",
       "</table>\n",
       "</div>"
      ],
      "text/plain": [
       "             best_ingredient      score\n",
       "cuisine                                \n",
       "greek                   feta  11.451000\n",
       "southern_us             grit  11.569390\n",
       "filipino           calamansi   6.339107\n",
       "indian                 curri  10.051293\n",
       "jamaican                jerk  11.702598\n",
       "spanish             manchego   7.930206\n",
       "italian              arborio   9.904959\n",
       "mexican             tortilla  14.696732\n",
       "chinese               chines   8.244614\n",
       "british              stilton   9.993082\n",
       "thai                  galang   6.081898\n",
       "vietnamese              fish   7.777916\n",
       "cajun_creole           cajun   9.591309\n",
       "brazilian            cachaca  12.317975\n",
       "french                gruyer   6.577659\n",
       "japanese                miso   9.054339\n",
       "irish                  irish  10.526735\n",
       "korean                kimchi  12.224630\n",
       "moroccan             couscou   8.464747\n",
       "russian                 beet   7.149083"
      ]
     },
     "execution_count": 51,
     "metadata": {},
     "output_type": "execute_result"
    }
   ],
   "source": [
    "best_ing_data = {\n",
    "    \"cuisine\" : df[\"cuisine\"].unique(),\n",
    "    \"best_ingredient\" : [coeffs.loc[cuisine, :].idxmax() for cuisine in df[\"cuisine\"].unique()],\n",
    "    \"score\" : [coeffs.loc[cuisine, :].max() for cuisine in df[\"cuisine\"].unique()]\n",
    "}\n",
    "best_ingredients = pd.DataFrame(best_ing_data).set_index([\"cuisine\"])\n",
    "best_ingredients"
   ]
  },
  {
   "cell_type": "markdown",
   "metadata": {},
   "source": [
    "Si nota già da questo DataFrame che gli ingredienti più caratteristici di alcune cucine sono semplicemente gli aggettivi che ne indicano le provenienze (russian, irish), nonostante non siano veri e propri ingredienti. Per le altre cucine, invece, gli ingredienti principali sono abbastanza realistici."
   ]
  },
  {
   "cell_type": "markdown",
   "metadata": {},
   "source": [
    "Proviamo ancora a migliorare i risultati utilizzando un modello ancora più complesso: SVM."
   ]
  },
  {
   "cell_type": "markdown",
   "metadata": {},
   "source": [
    "Ma prima, salviamo anche questo modello su disco:"
   ]
  },
  {
   "cell_type": "code",
   "execution_count": 53,
   "metadata": {},
   "outputs": [],
   "source": [
    "with open(\"what's_cooking_website/models/model_logreg.bin\", \"wb\") as f:\n",
    "    pickle.dump(gs_logreg.best_estimator_, f)"
   ]
  },
  {
   "cell_type": "markdown",
   "metadata": {},
   "source": [
    "## Support Vector Machines"
   ]
  },
  {
   "cell_type": "markdown",
   "metadata": {},
   "source": [
    "Le Support Vector Machines sono uno strumento molto potente per individuare iperpiani di separazione ottimi, ovvero quelli che generano minore overfitting. Invece di considerare tutte le istanze, si considerano solo quelle vicine al decision boundary, i cosiddetti Support Vector e si cerca di massimizzare la distanza tra questi punti e l'iperpiano."
   ]
  },
  {
   "cell_type": "markdown",
   "metadata": {},
   "source": [
    "Gli iperparametri per SVM sono i seguenti:\n",
    "- il tipo di funzione kernel da usare\n",
    "- il grado della funzione kernel\n",
    "- C, ovvero un parametro che controlla l'overfitting effettuando uno spostamento dei dati misclassified\n",
    "- gamma, ovvero un parametro che controlla quanto il decision boundary sia flessibile (in rbf corrisponde all'ampiezza della gaussiana)\n",
    "\n",
    "Abilitiamo anche probability=True per abilitare l'utilizzo di predict_proba nel modello finale."
   ]
  },
  {
   "cell_type": "code",
   "execution_count": null,
   "metadata": {},
   "outputs": [],
   "source": [
    "grid3 = {\n",
    "    'model__gamma' : [0.1, 1, 5],\n",
    "    'model__C' : [0.1, 1, 5, 10],\n",
    "    'model__kernel' : ['rbf', 'poly']\n",
    "}\n",
    "SVC = Pipeline([\n",
    "    (\"tokenizer\", TfidfVectorizer()),\n",
    "    (\"model\",  SVC(probability=True))\n",
    "])\n",
    "gs_SVC = GridSearchCV(SVC, grid3)"
   ]
  },
  {
   "cell_type": "code",
   "execution_count": null,
   "metadata": {},
   "outputs": [],
   "source": [
    "gs_SVC.fit(X_t, y_t)\n",
    "gs_SVC.score(X_v, y_v)"
   ]
  },
  {
   "cell_type": "code",
   "execution_count": null,
   "metadata": {},
   "outputs": [],
   "source": [
    "pd.DataFrame(gs_SVC.cv_results_).sort_values(\"rank_test_score\").head(5)"
   ]
  },
  {
   "cell_type": "markdown",
   "metadata": {},
   "source": [
    "[conclusioni su questo metodo]"
   ]
  },
  {
   "cell_type": "markdown",
   "metadata": {},
   "source": [
    "Ancora una volta, salviamo il modello su disco:"
   ]
  },
  {
   "cell_type": "code",
   "execution_count": null,
   "metadata": {},
   "outputs": [],
   "source": [
    "with open(\"what's_cooking_website/models/model_SVM.bin\", \"wb\") as f:\n",
    "    pickle.dump(gs_SVC.best_estimator, f)"
   ]
  },
  {
   "cell_type": "markdown",
   "metadata": {},
   "source": [
    "## Affidabilità dei modelli"
   ]
  },
  {
   "cell_type": "markdown",
   "metadata": {},
   "source": [
    "Si vuole calcolare quanto i modelli trovati finora siano affidabili. Per farlo utilizzeremo diverse metriche:\n",
    "- Si calcola la matrice di confusione\n",
    "- Si calcolano precision, recall e f1-score dei modelli\n",
    "- Calcolo degli intervalli di confidenza con confidenza fissata al 95%"
   ]
  },
  {
   "cell_type": "code",
   "execution_count": null,
   "metadata": {},
   "outputs": [],
   "source": [
    "def confusion_matrix_calculation(model):\n",
    "    return confusion_matrix(y_v, model.predict(X_v))\n",
    "\n",
    "def calculate_precision_recall_f1(model):\n",
    "    y_v_predictions = model.predict(X_v)\n",
    "    p = precision_score(y_v, y_v_predictions, pos_label=1, average=\"macro\")\n",
    "    r = recall_score(y_v, y_v_predictions, average=\"macro\")\n",
    "    f1 = f1_score(y_v, y_v_predictions, average=\"macro\")\n",
    "    return {\"precision\" : p, \"recall\": r, \"f1-score\": f1}"
   ]
  },
  {
   "cell_type": "code",
   "execution_count": null,
   "metadata": {},
   "outputs": [],
   "source": [
    "#matrice di confusione del modello perceptron\n",
    "conf_perc = pd.DataFrame(confusion_matrix_calculation(gs_perc.best_estimator_), index=average.keys(), columns=average.keys())\n",
    "conf_perc"
   ]
  },
  {
   "cell_type": "code",
   "execution_count": null,
   "metadata": {},
   "outputs": [],
   "source": [
    "#matrice di confusione del modello di regressione logistica\n",
    "conf_logreg = pd.DataFrame(confusion_matrix_calculation(gs_logreg.best_estimator_), index=best_ingredients.index, columns=best_ingredients.index)\n",
    "conf_logreg"
   ]
  },
  {
   "cell_type": "code",
   "execution_count": null,
   "metadata": {},
   "outputs": [],
   "source": [
    "#matrice di confusione del modello SVM\n",
    "conf_SVC = pd.DataFrame(confusion_matrix_calculation(gs_SVC.best_estimator_), index=best_ingredients.index, columns=best_ingredients.index)\n",
    "conf_SVC"
   ]
  },
  {
   "cell_type": "code",
   "execution_count": null,
   "metadata": {},
   "outputs": [],
   "source": [
    "#calcolo delle statistiche per ogni modello trovato\n",
    "pd.DataFrame([calculate_precision_recall_f1(gs_perc.best_estimator_),\n",
    "              calculate_precision_recall_f1(gs_logreg.best_estimator_),\n",
    "              calculate_precision_recall_f1(gs_SVC.best_estimator_)],\n",
    "                 index=[\"perceptron\", \"logreg\", \"SVM\"])"
   ]
  },
  {
   "cell_type": "markdown",
   "metadata": {},
   "source": [
    "[Inserire analisi dei risultati ottenuti]"
   ]
  },
  {
   "cell_type": "markdown",
   "metadata": {},
   "source": [
    "Calcoliamo anche gli intervalli di confidenza dei modelli."
   ]
  },
  {
   "cell_type": "code",
   "execution_count": null,
   "metadata": {},
   "outputs": [],
   "source": [
    "def confidence(acc, N, Z):\n",
    "    den = (2*(N+Z**2))\n",
    "    var = (Z*np.sqrt(Z**2+4*N*acc-4*N*acc**2)) / den\n",
    "    a = (2*N*acc+Z**2) / den\n",
    "    inf = a - var\n",
    "    sup = a + var\n",
    "    return (inf, sup)\n",
    "\n",
    "def calculate_accuracy(conf_matrix):\n",
    "    return np.diag(conf_matrix).sum() / conf_matrix.sum().sum()"
   ]
  },
  {
   "cell_type": "code",
   "execution_count": null,
   "metadata": {},
   "outputs": [],
   "source": [
    "#con confidenza del 0.95 si ha Z=1.96\n",
    "confidence(calculate_accuracy(conf_perc), len(X_v), 1.96)"
   ]
  },
  {
   "cell_type": "markdown",
   "metadata": {},
   "source": [
    "## Bilanciamento delle classi"
   ]
  },
  {
   "cell_type": "markdown",
   "metadata": {},
   "source": [
    "Proviamo ora a trasformare i dati in modo che le classi siano bilanciate per vedere se i risultati che si ottengono sono migliori o peggiori. Per farlo usiamo SMOTE che fa parte del modulo imblearn che deve essere scaricato con pip con il comando \n",
    "```python\n",
    "pip3 install imblearn\n",
    "```"
   ]
  },
  {
   "cell_type": "code",
   "execution_count": null,
   "metadata": {},
   "outputs": [],
   "source": [
    "from imblearn.over_sampling import SMOTE\n",
    "balancer = SMOTE(random_state=42)\n",
    "t = TfidfVectorizer()\n",
    "balanced_matrix = t.fit_transform(df[\"ingredients\"])\n",
    "y_cpy = df[\"cuisine\"]"
   ]
  },
  {
   "cell_type": "code",
   "execution_count": null,
   "metadata": {},
   "outputs": [],
   "source": [
    "X, y = balancer.fit_resample(balanced_matrix, y_cpy)"
   ]
  },
  {
   "cell_type": "code",
   "execution_count": null,
   "metadata": {},
   "outputs": [],
   "source": [
    "pd.Series(y).value_counts()"
   ]
  },
  {
   "cell_type": "markdown",
   "metadata": {},
   "source": [
    "Le classi sono state bilanciate."
   ]
  },
  {
   "cell_type": "code",
   "execution_count": null,
   "metadata": {},
   "outputs": [],
   "source": [
    "model_balanced = LogisticRegression(C=5)\n",
    "X_t_b, X_v_b, y_t_b, y_v_b = train_test_split(balanced_matrix, y_cpy, random_state=42, test_size=1/3)"
   ]
  },
  {
   "cell_type": "code",
   "execution_count": null,
   "metadata": {},
   "outputs": [],
   "source": [
    "model_balanced.fit(X_t_b, y_t_b)\n",
    "model_balanced.score(X_v_b, y_v_b)"
   ]
  },
  {
   "cell_type": "markdown",
   "metadata": {},
   "source": [
    "[conclusioni da fare sul modello bilanciato]"
   ]
  },
  {
   "cell_type": "markdown",
   "metadata": {},
   "source": [
    "## Conclusioni [da fare]"
   ]
  }
 ],
 "metadata": {
  "kernelspec": {
   "display_name": "Python 3",
   "language": "python",
   "name": "python3"
  },
  "language_info": {
   "codemirror_mode": {
    "name": "ipython",
    "version": 3
   },
   "file_extension": ".py",
   "mimetype": "text/x-python",
   "name": "python",
   "nbconvert_exporter": "python",
   "pygments_lexer": "ipython3",
   "version": "3.7.3"
  }
 },
 "nbformat": 4,
 "nbformat_minor": 2
}
